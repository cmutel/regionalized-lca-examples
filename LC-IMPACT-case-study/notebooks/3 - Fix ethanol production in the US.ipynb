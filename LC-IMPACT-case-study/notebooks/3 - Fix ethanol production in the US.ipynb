{
 "cells": [
  {
   "cell_type": "markdown",
   "metadata": {},
   "source": [
    "This notebook fixes the production of ethanol in the US.\n",
    "\n",
    "In default ecoinvent 3.4 cutoff, the supply goes like this:\n",
    "    - 'dewatering of ethanol from biomass, from 95% to 99.7% solution state' (kilogram, US, None)\n",
    "    - 'ethanol production from maize' (kilogram, US, None)\n",
    "    - 'market for maize grain' (kilogram, GLO, None)\n",
    "        - 0.396783400122377 kilogram 'maize grain production' (kilogram, US, None)\n",
    "        - 0.572106021842784 kilogram 'maize grain production' (kilogram, GLO, None)\n",
    "\n",
    "However, in our case study this doesn't make sense - we want the maize to be processed into ethanol in the US to be grown in the US. So, we link `'ethanol production from maize' (kilogram, US, None)` directly to US maize grain production."
   ]
  },
  {
   "cell_type": "code",
   "execution_count": null,
   "metadata": {},
   "outputs": [],
   "source": [
    "import bw2data as bd"
   ]
  },
  {
   "cell_type": "code",
   "execution_count": null,
   "metadata": {},
   "outputs": [],
   "source": [
    "bd.projects.set_current(\"LC IMPACT case study\")"
   ]
  },
  {
   "cell_type": "markdown",
   "metadata": {},
   "source": [
    "The broken market"
   ]
  },
  {
   "cell_type": "code",
   "execution_count": null,
   "metadata": {},
   "outputs": [],
   "source": [
    "qs = [x for x in bd.Database(\"ecoinvent\") \n",
    "      if x['name'] == 'ethanol production from maize'\n",
    "      and x['reference product'] == 'ethanol, without water, in 95% solution state, from fermentation'\n",
    "      and x['location'] == 'US']\n",
    "\n",
    "assert len(qs) == 1\n",
    "ethanol_from_maize = qs[0]\n",
    "ethanol_from_maize"
   ]
  },
  {
   "cell_type": "markdown",
   "metadata": {},
   "source": [
    "The input of corn from the global market"
   ]
  },
  {
   "cell_type": "code",
   "execution_count": null,
   "metadata": {},
   "outputs": [],
   "source": [
    "for fixme in ethanol_from_maize.technosphere():\n",
    "    if fixme.input['name'] == 'market for maize grain':\n",
    "        print(fixme)\n",
    "        break"
   ]
  },
  {
   "cell_type": "markdown",
   "metadata": {},
   "source": [
    "We can find the correct input (US production of corn):"
   ]
  },
  {
   "cell_type": "code",
   "execution_count": null,
   "metadata": {},
   "outputs": [],
   "source": [
    "for usa in fixme.input.technosphere():\n",
    "    if usa.input['location'] == 'US':\n",
    "        print(usa)\n",
    "        break"
   ]
  },
  {
   "cell_type": "code",
   "execution_count": null,
   "metadata": {},
   "outputs": [],
   "source": [
    "fixme.input = usa.input\n",
    "fixme.save()"
   ]
  },
  {
   "cell_type": "markdown",
   "metadata": {},
   "source": [
    "Check to make sure it worked"
   ]
  },
  {
   "cell_type": "code",
   "execution_count": null,
   "metadata": {},
   "outputs": [],
   "source": [
    "reloaded = bd.get_activity(ethanol_from_maize.key)\n",
    "for exc in reloaded.technosphere():\n",
    "    print(exc)"
   ]
  }
 ],
 "metadata": {
  "kernelspec": {
   "display_name": "Python 3 (ipykernel)",
   "language": "python",
   "name": "python3"
  },
  "language_info": {
   "codemirror_mode": {
    "name": "ipython",
    "version": 3
   },
   "file_extension": ".py",
   "mimetype": "text/x-python",
   "name": "python",
   "nbconvert_exporter": "python",
   "pygments_lexer": "ipython3",
   "version": "3.9.12"
  },
  "toc": {
   "base_numbering": 1,
   "nav_menu": {},
   "number_sections": true,
   "sideBar": true,
   "skip_h1_title": false,
   "title_cell": "Table of Contents",
   "title_sidebar": "Contents",
   "toc_cell": false,
   "toc_position": {},
   "toc_section_display": true,
   "toc_window_display": false
  }
 },
 "nbformat": 4,
 "nbformat_minor": 4
}
