{
 "cells": [
  {
   "cell_type": "code",
   "execution_count": null,
   "metadata": {},
   "outputs": [],
   "source": [
    "import bw2data as bd\n",
    "import bw2io as bi"
   ]
  },
  {
   "cell_type": "code",
   "execution_count": null,
   "metadata": {},
   "outputs": [],
   "source": [
    "assert bd.__version__ > (4, 0), \"This notebook is only for Brightway 2.5\""
   ]
  },
  {
   "cell_type": "code",
   "execution_count": null,
   "metadata": {},
   "outputs": [],
   "source": [
    "bd.projects.set_current(\"LC IMPACT case study\")"
   ]
  },
  {
   "cell_type": "markdown",
   "metadata": {},
   "source": [
    "# Create default `biosphere` database and LCIA methods"
   ]
  },
  {
   "cell_type": "code",
   "execution_count": null,
   "metadata": {},
   "outputs": [],
   "source": [
    "bi.create_default_biosphere3()\n",
    "bi.create_core_migrations()"
   ]
  },
  {
   "cell_type": "markdown",
   "metadata": {},
   "source": [
    "# Import `ecoinvent 3.8` with the `cutoff` system model"
   ]
  },
  {
   "cell_type": "code",
   "execution_count": null,
   "metadata": {},
   "outputs": [],
   "source": [
    "ei = bi.SingleOutputEcospold2Importer(\"/Users/cmutel/Documents/LCA/Ecoinvent/3.8/cutoff/datasets\", \"ecoinvent\")\n",
    "ei.apply_strategies()\n",
    "ei.statistics()\n",
    "assert ei.all_linked"
   ]
  },
  {
   "cell_type": "code",
   "execution_count": null,
   "metadata": {},
   "outputs": [],
   "source": [
    "ei.write_database()"
   ]
  },
  {
   "cell_type": "markdown",
   "metadata": {},
   "source": [
    "# Create database for our functional unit\n",
    "\n",
    "We now define our functional unit. We will look at one passenger kilometer of transport in a modern auto (EURO 5 standard), with three fuel possibilities:\n",
    "\n",
    "* Low-sulfur petrol\n",
    "* E85 from Brazilian sugarcane\n",
    "* E85 from American maize\n",
    "\n",
    "Metastudies ([1](http://doi.org/10.1021/es305209a),[2](http://doi.org/10.1021/es502495u)) on the effective substitution ratio of ethanol compared to petrol are inconclusive. We therefore assume that ethanol substitutes 1:1 for petrol on an energetic basis in modern, fuel-injected cars.\n",
    "\n",
    "Ethanol has a lower energy density than petrol, therefor *1* kg of petrol is equivalent to *1.46* kg of ethanol\n",
    "\n",
    "Emissions from the combustion of ethanol differ from low-sulfur petrol. However, this difference is difficult to summarize, as it is dependent on, among other things, engine type, driving patterns, and\n",
    "climate ([3](http://doi.org/10.1016/j.rser.2013.03.046), [4](http://doi.org/10.1016/j.rser.2013.09.022), [5](http://doi.org/10.1177/0954407011407254)). Given this uncertainty, we make the following rough estimates:\n",
    "\n",
    "* Ethanol has effectively no sulfur, so no SO2 is emitted.\n",
    "* Emissions of CO decrease 10 percent\n",
    "* Hydrocarbon emissions decrease 10 percent\n",
    "\n",
    "The easiest way to define the functional unit was in the separate spreadsheet `\"ethanol-inventory.xlsx\"`, which is included in the supporting information."
   ]
  },
  {
   "cell_type": "code",
   "execution_count": null,
   "metadata": {},
   "outputs": [],
   "source": [
    "imp = bi.ExcelImporter(\"ethanol-inventory.xlsx\")\n",
    "imp.apply_strategies()\n",
    "imp.match_database(\"ecoinvent\", fields=('name', 'unit', 'location'))\n",
    "imp.match_database(fields=['name'])\n",
    "assert imp.all_linked"
   ]
  },
  {
   "cell_type": "code",
   "execution_count": null,
   "metadata": {},
   "outputs": [],
   "source": [
    "imp.write_database()"
   ]
  }
 ],
 "metadata": {
  "kernelspec": {
   "display_name": "Python 3 (ipykernel)",
   "language": "python",
   "name": "python3"
  },
  "language_info": {
   "codemirror_mode": {
    "name": "ipython",
    "version": 3
   },
   "file_extension": ".py",
   "mimetype": "text/x-python",
   "name": "python",
   "nbconvert_exporter": "python",
   "pygments_lexer": "ipython3",
   "version": "3.9.12"
  },
  "toc": {
   "base_numbering": 1,
   "nav_menu": {},
   "number_sections": true,
   "sideBar": true,
   "skip_h1_title": false,
   "title_cell": "Table of Contents",
   "title_sidebar": "Contents",
   "toc_cell": false,
   "toc_position": {},
   "toc_section_display": true,
   "toc_window_display": false
  }
 },
 "nbformat": 4,
 "nbformat_minor": 4
}
