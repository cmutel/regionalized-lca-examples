{
 "cells": [
  {
   "cell_type": "code",
   "execution_count": null,
   "metadata": {},
   "outputs": [],
   "source": [
    "import bw2data as bd\n",
    "import bw2regional as bwr\n",
    "import bw2_lcimpact as lcia\n",
    "import bw2_aware as aware\n",
    "from bw2regional.pandarus_remote import AlreadyExists\n",
    "import rower\n",
    "import os"
   ]
  },
  {
   "cell_type": "code",
   "execution_count": null,
   "metadata": {},
   "outputs": [],
   "source": [
    "assert lcia.__version__ >= (0, 4, 2)"
   ]
  },
  {
   "cell_type": "code",
   "execution_count": null,
   "metadata": {},
   "outputs": [],
   "source": [
    "bd.projects.set_current(\"LC IMPACT case study\")"
   ]
  },
  {
   "cell_type": "markdown",
   "metadata": {},
   "source": [
    "# Add basic metadata\n",
    "\n",
    "Such as country definitions"
   ]
  },
  {
   "cell_type": "code",
   "execution_count": null,
   "metadata": {},
   "outputs": [],
   "source": [
    "bwr.create_world_collections()"
   ]
  },
  {
   "cell_type": "code",
   "execution_count": null,
   "metadata": {},
   "outputs": [],
   "source": [
    "bwr.create_ecoinvent_collections()"
   ]
  },
  {
   "cell_type": "code",
   "execution_count": null,
   "metadata": {},
   "outputs": [],
   "source": [
    "bwr.create_restofworlds_collections()"
   ]
  },
  {
   "cell_type": "markdown",
   "metadata": {},
   "source": [
    "# Fix ecoinvent Rest-of-World definitions"
   ]
  },
  {
   "cell_type": "code",
   "execution_count": null,
   "metadata": {},
   "outputs": [],
   "source": [
    "rower_obj = rower.Rower('ecoinvent')"
   ]
  },
  {
   "cell_type": "code",
   "execution_count": null,
   "metadata": {},
   "outputs": [],
   "source": [
    "rower_obj.load_existing(rower_obj.EI_3_8_CUTOFF)\n",
    "rower_obj.label_RoWs()"
   ]
  },
  {
   "cell_type": "markdown",
   "metadata": {},
   "source": [
    "# Fix location labels to include geocollections"
   ]
  },
  {
   "cell_type": "code",
   "execution_count": null,
   "metadata": {},
   "outputs": [],
   "source": [
    "bwr.label_activity_geocollections(\"Fuel comparison\")"
   ]
  },
  {
   "cell_type": "code",
   "execution_count": null,
   "metadata": {},
   "outputs": [],
   "source": [
    "bwr.label_activity_geocollections(\"ecoinvent\")"
   ]
  },
  {
   "cell_type": "code",
   "execution_count": null,
   "metadata": {},
   "outputs": [],
   "source": [
    "bd.databases['biosphere3']['geocollections'] = []\n",
    "bd.databases.flush()"
   ]
  },
  {
   "cell_type": "code",
   "execution_count": null,
   "metadata": {},
   "outputs": [],
   "source": [
    "bwr.geocollections"
   ]
  },
  {
   "cell_type": "code",
   "execution_count": null,
   "metadata": {},
   "outputs": [],
   "source": [
    "for name in bd.databases:\n",
    "    print(name, bd.databases[name]['geocollections'])"
   ]
  },
  {
   "cell_type": "markdown",
   "metadata": {},
   "source": [
    "# Add regionalized LC IMPACT and AWARE impact categories"
   ]
  },
  {
   "cell_type": "code",
   "execution_count": null,
   "metadata": {
    "tags": []
   },
   "outputs": [],
   "source": [
    "lcia.import_regionalized_lcimpact()\n",
    "lcia.create_regionalized_intersections()"
   ]
  },
  {
   "cell_type": "code",
   "execution_count": null,
   "metadata": {},
   "outputs": [],
   "source": [
    "aware.import_regionalized_aware()\n",
    "aware.create_regionalized_intersections()"
   ]
  },
  {
   "cell_type": "markdown",
   "metadata": {},
   "source": [
    "# Calculate intersections between inventory and IA spatial scales"
   ]
  },
  {
   "cell_type": "code",
   "execution_count": null,
   "metadata": {},
   "outputs": [],
   "source": [
    "CATEGORIES = [\n",
    "    \"watersheds-hh\",\n",
    "    \"watersheds-eq-sw-certain\",\n",
    "    \"watersheds-eq-sw-all\",\n",
    "    \"particulate-matter\",\n",
    "    \"ecoregions\",\n",
    "]"
   ]
  },
  {
   "cell_type": "code",
   "execution_count": null,
   "metadata": {},
   "outputs": [],
   "source": [
    "for category in CATEGORIES:\n",
    "    bwr.calculate_intersection(\"world\", category)"
   ]
  },
  {
   "cell_type": "code",
   "execution_count": null,
   "metadata": {},
   "outputs": [],
   "source": [
    "for category in CATEGORIES:\n",
    "    remote.intersection(\"world\", category)"
   ]
  },
  {
   "cell_type": "markdown",
   "metadata": {},
   "source": [
    "## Get third spatial scale\n",
    "\n",
    "This is the intersection of inventory and IA spatial scales"
   ]
  },
  {
   "cell_type": "code",
   "execution_count": null,
   "metadata": {},
   "outputs": [],
   "source": [
    "for category in CATEGORIES:\n",
    "    remote.intersection_as_new_geocollection('world', category, 'world-topo-' + category)"
   ]
  },
  {
   "cell_type": "code",
   "execution_count": null,
   "metadata": {},
   "outputs": [],
   "source": [
    "CATEGORIES = [\n",
    "    \"watersheds-hh\",\n",
    "    \"watersheds-eq-sw-certain\",\n",
    "    \"watersheds-eq-sw-all\",\n",
    "    \"particulate-matter\",\n",
    "    \"ecoregions\",\n",
    "]\n",
    "\n",
    "for category in CATEGORIES:\n",
    "    try:\n",
    "        remote.calculate_intersection(\"world-topo-\" + category, category)\n",
    "    except AlreadyExists:\n",
    "        pass"
   ]
  },
  {
   "cell_type": "code",
   "execution_count": null,
   "metadata": {},
   "outputs": [],
   "source": [
    "for category in CATEGORIES:\n",
    "    remote.intersection(\"world-topo-\" + category, category)"
   ]
  },
  {
   "cell_type": "markdown",
   "metadata": {},
   "source": [
    "# Add extension table data\n",
    "\n",
    "## Add raster `geocollections`"
   ]
  },
  {
   "cell_type": "code",
   "execution_count": null,
   "metadata": {},
   "outputs": [],
   "source": [
    "rasters = [\n",
    "    'maize_landuse_intensity',\n",
    "    'maize_water_intensity',\n",
    "    'sugarcane_landuse_intensity',\n",
    "    'sugarcane_water_intensity',\n",
    "    'gdpweighted',\n",
    "]\n",
    "\n",
    "for label in rasters:\n",
    "    fp = os.path.abspath(os.path.join(\"..\", \"data\", label + \".tif\"))\n",
    "    assert os.path.isfile(fp)\n",
    "\n",
    "    if label == \"gdpweighted\":\n",
    "        label = 'weighted-pop-density'\n",
    "    \n",
    "    bwr.geocollections[label] = {\n",
    "        'filepath': fp,\n",
    "        'band': 1\n",
    "    }"
   ]
  },
  {
   "cell_type": "markdown",
   "metadata": {},
   "source": [
    "## Define raster statistics\n",
    "\n",
    "Need statistics for the spatial scale which is the intersection of inventory and IA"
   ]
  },
  {
   "cell_type": "code",
   "execution_count": null,
   "metadata": {},
   "outputs": [],
   "source": [
    "inters = [\n",
    "    'world-topo-watersheds-hh',\n",
    "    'world-topo-watersheds-eq-sw-certain',\n",
    "    'world-topo-watersheds-eq-sw-all',\n",
    "    'world-topo-particulate-matter',\n",
    "    'world-topo-ecoregions',\n",
    "]\n",
    "\n",
    "crop_rasters = [\n",
    "    'maize_landuse_intensity',\n",
    "    'maize_water_intensity',\n",
    "    'sugarcane_landuse_intensity',\n",
    "    'sugarcane_water_intensity',\n",
    "    'weighted-pop-density',\n",
    "]\n",
    "\n",
    "for x in inters:\n",
    "    for y in crop_rasters:\n",
    "        try:\n",
    "            bwr.remote.calculate_rasterstats(x, y)\n",
    "        except AlreadyExists:\n",
    "            pass"
   ]
  },
  {
   "cell_type": "markdown",
   "metadata": {},
   "source": [
    "## Import raster statistics as extension tables"
   ]
  },
  {
   "cell_type": "code",
   "execution_count": null,
   "metadata": {},
   "outputs": [],
   "source": [
    "for x in inters:\n",
    "    for y in crop_rasters:\n",
    "        bwr.remote.rasterstats_as_xt(x, y, x + \"-\" + y)"
   ]
  },
  {
   "cell_type": "code",
   "execution_count": null,
   "metadata": {},
   "outputs": [],
   "source": [
    "bwr.extension_tables"
   ]
  },
  {
   "cell_type": "code",
   "execution_count": null,
   "metadata": {},
   "outputs": [],
   "source": []
  }
 ],
 "metadata": {
  "kernelspec": {
   "display_name": "Python 3 (ipykernel)",
   "language": "python",
   "name": "python3"
  },
  "language_info": {
   "codemirror_mode": {
    "name": "ipython",
    "version": 3
   },
   "file_extension": ".py",
   "mimetype": "text/x-python",
   "name": "python",
   "nbconvert_exporter": "python",
   "pygments_lexer": "ipython3",
   "version": "3.9.12"
  },
  "toc": {
   "base_numbering": 1,
   "nav_menu": {
    "height": "171px",
    "width": "252px"
   },
   "number_sections": true,
   "sideBar": true,
   "skip_h1_title": false,
   "title_cell": "Table of Contents",
   "title_sidebar": "Contents",
   "toc_cell": false,
   "toc_position": {},
   "toc_section_display": "block",
   "toc_window_display": false
  }
 },
 "nbformat": 4,
 "nbformat_minor": 4
}
