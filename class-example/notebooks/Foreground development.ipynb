{
 "cells": [
  {
   "cell_type": "code",
   "execution_count": null,
   "id": "3781fc5e-eb45-4b70-92f2-1c623a7ef5c8",
   "metadata": {},
   "outputs": [],
   "source": [
    "import bw2data as bd\n",
    "import bw2io as bi\n",
    "import bw2regional as bwr"
   ]
  },
  {
   "cell_type": "markdown",
   "id": "be9df072-c292-4165-a1d2-807c4db7ed58",
   "metadata": {},
   "source": [
    "We use the project which already has ecoinvent as a background."
   ]
  },
  {
   "cell_type": "code",
   "execution_count": null,
   "id": "a9312466-4838-4f0d-a390-461861562b80",
   "metadata": {},
   "outputs": [],
   "source": [
    "bd.projects.set_current(\"LC IMPACT case study\")"
   ]
  },
  {
   "cell_type": "code",
   "execution_count": null,
   "id": "508e49d9-a54f-425a-8fff-fc763f85e5fb",
   "metadata": {},
   "outputs": [],
   "source": [
    "if 'meal' in bd.databases:\n",
    "    del bd.databases['meal']"
   ]
  },
  {
   "cell_type": "code",
   "execution_count": null,
   "id": "94ecb496-b9bd-4941-9377-758bb93a2508",
   "metadata": {},
   "outputs": [],
   "source": [
    "ei = bd.Database('ecoinvent')\n",
    "bio = bd.Database('biosphere3')"
   ]
  },
  {
   "cell_type": "markdown",
   "id": "016f6982-99b9-4d31-9811-e87f30efd31c",
   "metadata": {},
   "source": [
    "Find the background nodes in ecoinvent."
   ]
  },
  {
   "cell_type": "code",
   "execution_count": null,
   "id": "4c0db791-560e-4558-bd03-9c1d793d8762",
   "metadata": {},
   "outputs": [],
   "source": [
    "wheat = ei.get(name='wheat production', location='ES')"
   ]
  },
  {
   "cell_type": "code",
   "execution_count": null,
   "id": "bd9cf3ac-4199-41d3-970e-74e5d9d4be31",
   "metadata": {},
   "outputs": [],
   "source": [
    "water = bio.get(\n",
    "    name='Water', \n",
    "    categories=('water', 'surface water')\n",
    ")"
   ]
  },
  {
   "cell_type": "code",
   "execution_count": null,
   "id": "5b5182ca-25b1-4c04-9b23-1cc7448f18f5",
   "metadata": {},
   "outputs": [],
   "source": [
    "elec = ei.get(\n",
    "    name='market for electricity, low voltage', \n",
    "    location='ES'\n",
    ")"
   ]
  },
  {
   "cell_type": "markdown",
   "id": "0280bee0-d2dd-4ae7-be99-60b7660ca3ff",
   "metadata": {},
   "source": [
    "When searching for things, it can be convenient to use a list comprehension to filter by lower case, etc."
   ]
  },
  {
   "cell_type": "code",
   "execution_count": null,
   "id": "2deeaede-fee4-4cb9-b8e6-6eb51e4d5237",
   "metadata": {},
   "outputs": [],
   "source": [
    "[node \n",
    "     for node in ei \n",
    "     if node['location'] == 'ES' \n",
    "     and 'low voltage' in node['name']\n",
    "     and 'market' in node['name']\n",
    "]"
   ]
  },
  {
   "cell_type": "markdown",
   "id": "7588dc42-1819-497d-b646-73208cebf6ba",
   "metadata": {},
   "source": [
    "We can look over the biosphere edges to find the water we want (though this is already fixed above)."
   ]
  },
  {
   "cell_type": "code",
   "execution_count": null,
   "id": "f379124a-94b5-4931-b42b-431075f43545",
   "metadata": {
    "tags": []
   },
   "outputs": [],
   "source": [
    "for edge in wheat.biosphere():\n",
    "    if (\n",
    "        edge.input['name'] == 'Water' \n",
    "        and 'surface' in str(edge.input.get('categories'))\n",
    "    ):\n",
    "        print(edge)\n",
    "        break"
   ]
  },
  {
   "cell_type": "markdown",
   "id": "12c6c4e1-a377-4458-b78d-c1ae9ab768f6",
   "metadata": {},
   "source": [
    "Define the geocollections for our spatial units."
   ]
  },
  {
   "cell_type": "code",
   "execution_count": null,
   "id": "cc3f5edd-9205-4a74-940a-91332bbb2a06",
   "metadata": {},
   "outputs": [],
   "source": [
    "bwr.geocollections['BCN'] = {\n",
    "    'filepath': '/srv/data/vectors/barc_polygon.geojson',\n",
    "    'field': 'identifier',\n",
    "}"
   ]
  },
  {
   "cell_type": "code",
   "execution_count": null,
   "id": "ceef767b-444b-4510-af78-12a41399716a",
   "metadata": {},
   "outputs": [],
   "source": [
    "bwr.geocollections['ALM'] = {\n",
    "    'filepath': '/srv/data/vectors/alm2.geojson',\n",
    "    'field': 'id',\n",
    "}"
   ]
  },
  {
   "cell_type": "markdown",
   "id": "e03ecc5b-48d1-4e73-b716-5ed857f67535",
   "metadata": {},
   "source": [
    "Geocollections. Do they know things? Let's find out!"
   ]
  },
  {
   "cell_type": "code",
   "execution_count": null,
   "id": "25b2b4ba-c012-42c2-9daa-f12204c50e46",
   "metadata": {},
   "outputs": [],
   "source": [
    "bwr.geocollections['ALM']"
   ]
  },
  {
   "cell_type": "markdown",
   "id": "84a69d7e-801b-41ee-889d-b5bd61c59dbe",
   "metadata": {},
   "source": [
    "Finally we get to the nodes and edges..."
   ]
  },
  {
   "cell_type": "code",
   "execution_count": null,
   "id": "827f3bec-8472-474c-8e84-49a5ac0a4acb",
   "metadata": {},
   "outputs": [],
   "source": [
    "db = bd.Database('meal')\n",
    "db.register()"
   ]
  },
  {
   "cell_type": "code",
   "execution_count": null,
   "id": "1a6cbb4e-3644-4108-9cd0-2210f39323a7",
   "metadata": {},
   "outputs": [],
   "source": [
    "meal = db.new_node(\n",
    "    code='meal',\n",
    "    name='really good meal trust me',\n",
    "    unit='mecal',\n",
    "    location=('BCN', 'ILCA'),\n",
    "    ilca_course_barca=True,\n",
    ")\n",
    "meal.save()"
   ]
  },
  {
   "cell_type": "code",
   "execution_count": null,
   "id": "e252e4e7-d850-4588-aedd-67e82c9ff412",
   "metadata": {},
   "outputs": [],
   "source": [
    "meal.new_edge(\n",
    "    input=elec,\n",
    "    amount=2,\n",
    "    type='technosphere',\n",
    ").save()"
   ]
  },
  {
   "cell_type": "code",
   "execution_count": null,
   "id": "06482657-df1a-4453-994a-0f18c123fd39",
   "metadata": {},
   "outputs": [],
   "source": [
    "meal.new_edge(\n",
    "    input=wheat,\n",
    "    amount=0.5,\n",
    "    type='technosphere',\n",
    ").save()"
   ]
  },
  {
   "cell_type": "code",
   "execution_count": null,
   "id": "095668a6-4d87-4f0e-ac47-f1055674b43e",
   "metadata": {},
   "outputs": [],
   "source": [
    "meal.new_edge(\n",
    "    input=water,\n",
    "    amount=1,\n",
    "    type='biosphere',\n",
    ").save()"
   ]
  },
  {
   "cell_type": "code",
   "execution_count": null,
   "id": "e6aa1c59-81d8-4d61-8d12-368e453bc240",
   "metadata": {},
   "outputs": [],
   "source": [
    "meal.new_edge(\n",
    "    input=meal,\n",
    "    amount=1,\n",
    "    type='production',\n",
    ").save()"
   ]
  },
  {
   "cell_type": "code",
   "execution_count": null,
   "id": "848d40a3-f326-4246-ad16-fc89f0466945",
   "metadata": {},
   "outputs": [],
   "source": [
    "tomato = db.new_node(\n",
    "    code='🍅',\n",
    "    name='🍅',\n",
    "    unit='kg',\n",
    "    location=('ALM', '1'),\n",
    ")\n",
    "tomato.save()"
   ]
  },
  {
   "cell_type": "code",
   "execution_count": null,
   "id": "b8143184-caf8-40d2-b284-64723280e367",
   "metadata": {},
   "outputs": [],
   "source": [
    "meal.new_edge(\n",
    "    input=tomato,\n",
    "    amount=0.25,\n",
    "    type='technosphere',\n",
    ").save()"
   ]
  },
  {
   "cell_type": "code",
   "execution_count": null,
   "id": "2a9adbdd-0cf2-429d-9f0c-c33bb850032e",
   "metadata": {},
   "outputs": [],
   "source": [
    "tomato.new_edge(\n",
    "    input=elec,\n",
    "    amount=1.5,\n",
    "    type='technosphere',\n",
    ").save()"
   ]
  },
  {
   "cell_type": "code",
   "execution_count": null,
   "id": "1533ea8d-c4d2-4e2a-bcfd-0a25e4026199",
   "metadata": {},
   "outputs": [],
   "source": [
    "tomato.new_edge(\n",
    "    input=water,\n",
    "    amount=5,\n",
    "    type='biosphere',\n",
    ").save()"
   ]
  },
  {
   "cell_type": "code",
   "execution_count": null,
   "id": "d1c88422-d812-4653-8049-1d5ea8a417c5",
   "metadata": {},
   "outputs": [],
   "source": [
    "for node in db:\n",
    "    print(node, node['code'])\n",
    "    for edge in node.edges():\n",
    "        print(\"\\t\\t\", edge)"
   ]
  },
  {
   "cell_type": "markdown",
   "id": "8db048b3-1ff8-4515-8020-1642909d68ef",
   "metadata": {},
   "source": [
    "Run if needed..."
   ]
  },
  {
   "cell_type": "code",
   "execution_count": null,
   "id": "c5b8f357-ec6c-42ee-9cd0-d72b6ac804a1",
   "metadata": {},
   "outputs": [],
   "source": [
    "meal.delete_duplicate_exchanges()"
   ]
  }
 ],
 "metadata": {
  "kernelspec": {
   "display_name": "Python [conda env:regional]",
   "language": "python",
   "name": "conda-env-regional-py"
  },
  "language_info": {
   "codemirror_mode": {
    "name": "ipython",
    "version": 3
   },
   "file_extension": ".py",
   "mimetype": "text/x-python",
   "name": "python",
   "nbconvert_exporter": "python",
   "pygments_lexer": "ipython3",
   "version": "3.10.4"
  }
 },
 "nbformat": 4,
 "nbformat_minor": 5
}
