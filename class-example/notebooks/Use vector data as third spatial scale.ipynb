{
 "cells": [
  {
   "cell_type": "markdown",
   "id": "c0a83383-359a-4635-a7e8-14b20224baf2",
   "metadata": {},
   "source": [
    "# Use vector data as a third spatial scale\n",
    "\n",
    "Data from [Estimation of spatial distribution of irrigated crop areas in Europe for large-scale modelling applications](https://www.sciencedirect.com/science/article/pii/S0378377422000749?via%3Dihub#sec0060), via [Agri4Cast](https://agri4cast.jrc.ec.europa.eu/DataPortal/Index.aspx?o=).\n",
    "\n",
    "Data also [available here](https://files.brightway.dev/europe_irrigated.gpkg)."
   ]
  },
  {
   "cell_type": "code",
   "execution_count": null,
   "id": "cba6328b-e590-4679-b908-8d62450ba6c4",
   "metadata": {},
   "outputs": [],
   "source": [
    "import bw2data as bd\n",
    "import bw2regional as bwr\n",
    "import time"
   ]
  },
  {
   "cell_type": "code",
   "execution_count": null,
   "id": "4e26e579-7103-4e83-9a8b-18416f0fa8db",
   "metadata": {},
   "outputs": [],
   "source": [
    "bd.projects.set_current(\"LC IMPACT case study\")"
   ]
  },
  {
   "cell_type": "code",
   "execution_count": null,
   "id": "4cbcd9e0-ab5a-4cfb-93fa-7ce2dc8b9f0b",
   "metadata": {},
   "outputs": [],
   "source": [
    "fp = \"/srv/data/vectors/europe_irrigated.gpkg\""
   ]
  },
  {
   "cell_type": "code",
   "execution_count": null,
   "id": "87fb5327-517b-421c-9f64-7e25a7a91f5c",
   "metadata": {},
   "outputs": [],
   "source": [
    "bwr.geocollections[\"jrc-irrigation-wheat\"] = {\n",
    "    \"filepath\": fp,\n",
    "    \"field\": \"USCIE_GRID\",        \n",
    "}"
   ]
  },
  {
   "cell_type": "code",
   "execution_count": null,
   "id": "8c26192f-88ad-4462-9eef-9f2ec1a1c8a8",
   "metadata": {},
   "outputs": [],
   "source": [
    "to_intersect = [\n",
    "    \"world\",\n",
    "    \"watersheds-hh\",\n",
    "    \"watersheds-eq-sw-certain\",\n",
    "    \"watersheds-eq-sw-all\",\n",
    "    \"particulate-matter\",\n",
    "    \"ecoregions\",\n",
    "]"
   ]
  },
  {
   "cell_type": "code",
   "execution_count": null,
   "id": "17f5664f-39ff-46fe-8c67-ff74187ada3c",
   "metadata": {},
   "outputs": [],
   "source": [
    "jobs = []\n",
    "\n",
    "for gc in to_intersect:\n",
    "    jobs.append(bwr.remote.calculate_intersection(gc, \"jrc-irrigation-wheat\"))\n",
    "    \n",
    "while not all(job.status != 'started' for job in jobs):\n",
    "    time.sleep(2)"
   ]
  },
  {
   "cell_type": "code",
   "execution_count": null,
   "id": "483ac93c-af36-483b-9e78-b561ba07217c",
   "metadata": {},
   "outputs": [],
   "source": [
    "for gc in to_intersect:\n",
    "    bwr.remote.intersection(gc, \"jrc-irrigation-wheat\")"
   ]
  },
  {
   "cell_type": "code",
   "execution_count": null,
   "id": "9c14e3d6-4f30-4a62-8b86-d4ddd3be61c1",
   "metadata": {},
   "outputs": [],
   "source": [
    "xt = bwr.ExtensionTable(\"jrc-irrigation-wheat\")\n",
    "xt.register(\n",
    "    geocollection=\"jrc-irrigation-wheat\",\n",
    "    xt_field=\"IR_cereals\"\n",
    ")"
   ]
  },
  {
   "cell_type": "code",
   "execution_count": null,
   "id": "fdca5dbb-4ff4-4b04-9f46-68c3a0da198e",
   "metadata": {},
   "outputs": [],
   "source": [
    "xt.import_from_map(mask=-999)"
   ]
  },
  {
   "cell_type": "code",
   "execution_count": null,
   "id": "f179cfc0-83d6-4511-9ded-1b35cb888fcb",
   "metadata": {},
   "outputs": [],
   "source": [
    "my_method = ('LC-IMPACT',\n",
    "  'Water Use',\n",
    "  'Ecosystem Quality',\n",
    "  'Surface Water',\n",
    "  'Marginal',\n",
    "  'All')\n"
   ]
  },
  {
   "cell_type": "code",
   "execution_count": null,
   "id": "bc13f3a8-1a46-4436-971a-a124a78dbd5a",
   "metadata": {},
   "outputs": [],
   "source": [
    "lca = bwr.ExtensionTablesLCA(\n",
    "    demand={('meal', 'meal'): 1},\n",
    "    method=my_method,\n",
    "    xtable=\"jrc-irrigation-wheat\"\n",
    ")\n",
    "lca.lci()\n",
    "lca.lcia()"
   ]
  },
  {
   "cell_type": "code",
   "execution_count": null,
   "id": "46564515-ee3d-4108-b297-8bf7f191b1d4",
   "metadata": {},
   "outputs": [],
   "source": [
    "lca.score"
   ]
  },
  {
   "cell_type": "code",
   "execution_count": null,
   "id": "1a2a9eca-dec8-443e-9475-472378db51a0",
   "metadata": {},
   "outputs": [],
   "source": [
    "lca.geodataframe_ia_spatial_scale(cutoff=1e-5).explore(column='score_rel')"
   ]
  }
 ],
 "metadata": {
  "kernelspec": {
   "display_name": "Python [conda env:regional]",
   "language": "python",
   "name": "conda-env-regional-py"
  },
  "language_info": {
   "codemirror_mode": {
    "name": "ipython",
    "version": 3
   },
   "file_extension": ".py",
   "mimetype": "text/x-python",
   "name": "python",
   "nbconvert_exporter": "python",
   "pygments_lexer": "ipython3",
   "version": "3.10.4"
  }
 },
 "nbformat": 4,
 "nbformat_minor": 5
}
