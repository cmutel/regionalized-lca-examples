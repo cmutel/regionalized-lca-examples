{
 "cells": [
  {
   "cell_type": "code",
   "execution_count": null,
   "id": "5a49e71e-50fe-4764-85a6-317a1046a010",
   "metadata": {},
   "outputs": [],
   "source": [
    "import bw2data as bd\n",
    "import bw2io as bi\n",
    "import bw2regional as bwr\n",
    "import bw2calc as bc\n",
    "import bw2analyzer as ba"
   ]
  },
  {
   "cell_type": "markdown",
   "id": "6bc0a923-1a28-41fe-a289-f0d8918b17c2",
   "metadata": {},
   "source": [
    "Here if our matrix equation:\n",
    "\n",
    "$ h_{r} = [ MN_{dx}DXN_{g}GR ]^{T} \\cdot [ BA^{-1}f ]$"
   ]
  },
  {
   "cell_type": "code",
   "execution_count": null,
   "id": "8842be26-fe8f-42cc-aaa9-5269cc85ab09",
   "metadata": {},
   "outputs": [],
   "source": [
    "bd.projects.set_current(\"LC IMPACT case study\")"
   ]
  },
  {
   "cell_type": "code",
   "execution_count": null,
   "id": "b34a8d45-d10b-4ee5-b674-4acd8842102c",
   "metadata": {},
   "outputs": [],
   "source": [
    "meal = bd.Database('meal')\n",
    "meal.process()"
   ]
  },
  {
   "cell_type": "code",
   "execution_count": null,
   "id": "f24ee9da-2e9b-4418-8d94-bd6545789cb1",
   "metadata": {},
   "outputs": [],
   "source": [
    "my_method = ('LC-IMPACT',\n",
    "  'Water Use',\n",
    "  'Ecosystem Quality',\n",
    "  'Surface Water',\n",
    "  'Marginal',\n",
    "  'All')"
   ]
  },
  {
   "cell_type": "markdown",
   "id": "1942f2a7-d867-4642-bfa7-09416647b7e3",
   "metadata": {},
   "source": [
    "Start the calculations"
   ]
  },
  {
   "cell_type": "code",
   "execution_count": null,
   "id": "b2337837-5bb0-44f7-aa3e-85d8d8ca713d",
   "metadata": {},
   "outputs": [],
   "source": [
    "def combine_xts(demand, method, xtables):    \n",
    "    first, others = xtables[0], xtables[1:]\n",
    "    \n",
    "    lca = bwr.ExtensionTablesLCA(\n",
    "        demand=demand,\n",
    "        method=method,\n",
    "        xtable=first\n",
    "    )\n",
    "    lca.lci()\n",
    "    lca.lcia()\n",
    "    \n",
    "    for xtable in others:\n",
    "        other_lca = bwr.ExtensionTablesLCA(\n",
    "            demand=demand,\n",
    "            method=method,\n",
    "            xtable=xtable\n",
    "        )\n",
    "        other_lca.lci()\n",
    "        other_lca.lcia()\n",
    "        \n",
    "        lca.characterized_inventory += other_lca.characterized_inventory\n",
    "    \n",
    "    return lca"
   ]
  },
  {
   "cell_type": "code",
   "execution_count": null,
   "id": "127d318d-9ea9-4871-aee1-5b7f6ccf159e",
   "metadata": {},
   "outputs": [],
   "source": [
    "xtables = [\n",
    "    'alm-xt',     \n",
    "    'bcn-xt',\n",
    "    'world-topo-watersheds-eq-sw-all-weighted-pop-density',\n",
    "]"
   ]
  },
  {
   "cell_type": "code",
   "execution_count": null,
   "id": "05c9b392-cfbc-4eb4-ae7d-899cff18bddf",
   "metadata": {},
   "outputs": [],
   "source": [
    "lca = combine_xts({('meal', 'meal'): 1}, my_method, xtables)   "
   ]
  },
  {
   "cell_type": "code",
   "execution_count": null,
   "id": "be32cdb1-4d2e-42b9-98f5-a898ab509c02",
   "metadata": {
    "tags": []
   },
   "outputs": [],
   "source": [
    "lca.geodataframe_inv_spatial_scale(cutoff=None).explore(column='score_rel')"
   ]
  },
  {
   "cell_type": "markdown",
   "id": "7b4708a5-4393-4b38-ac1a-bdb4fa52aa68",
   "metadata": {},
   "source": [
    "Contribution (can be regionalized)"
   ]
  },
  {
   "cell_type": "code",
   "execution_count": null,
   "id": "e249a47b-0982-494e-97ad-d13b6b3d569a",
   "metadata": {},
   "outputs": [],
   "source": [
    "ba.ContributionAnalysis(max_level=4).annotated_top_processes(lca, names=True)"
   ]
  },
  {
   "cell_type": "markdown",
   "id": "08339132-309e-4740-9467-cbf0da9886bb",
   "metadata": {},
   "source": [
    "Compare with site-generic LCA"
   ]
  },
  {
   "cell_type": "code",
   "execution_count": null,
   "id": "f361fe59-cbc7-44ff-bd5b-a7ce1c7df8c7",
   "metadata": {},
   "outputs": [],
   "source": [
    "sg = bc.LCA(\n",
    "    demand={('meal', 'meal'): 1},\n",
    "    method=my_method,\n",
    ")\n",
    "sg.lci()\n",
    "sg.lcia()\n",
    "sg.score"
   ]
  },
  {
   "cell_type": "markdown",
   "id": "18297bd4-b151-45b7-b1f7-6e5e84e22e8a",
   "metadata": {},
   "source": [
    "Recursive calculation (only site-generic)"
   ]
  },
  {
   "cell_type": "code",
   "execution_count": null,
   "id": "44501dd0-3ae4-43bf-90eb-ba052355b7c3",
   "metadata": {},
   "outputs": [],
   "source": [
    "ba.utils.print_recursive_calculation(('meal', 'meal'), my_method, max_level=4)"
   ]
  }
 ],
 "metadata": {
  "kernelspec": {
   "display_name": "Python [conda env:regional]",
   "language": "python",
   "name": "conda-env-regional-py"
  },
  "language_info": {
   "codemirror_mode": {
    "name": "ipython",
    "version": 3
   },
   "file_extension": ".py",
   "mimetype": "text/x-python",
   "name": "python",
   "nbconvert_exporter": "python",
   "pygments_lexer": "ipython3",
   "version": "3.10.4"
  }
 },
 "nbformat": 4,
 "nbformat_minor": 5
}
