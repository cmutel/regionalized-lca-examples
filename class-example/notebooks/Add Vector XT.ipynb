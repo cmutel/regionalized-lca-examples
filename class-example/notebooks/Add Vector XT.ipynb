{
 "cells": [
  {
   "cell_type": "code",
   "execution_count": 8,
   "id": "63f54d4e-d5c5-4427-a413-8f7bbc091020",
   "metadata": {},
   "outputs": [],
   "source": [
    "import bw2data as bd\n",
    "import bw2regional as bwr"
   ]
  },
  {
   "cell_type": "code",
   "execution_count": 9,
   "id": "780593aa-bb05-43c9-8471-aaaec85d6369",
   "metadata": {},
   "outputs": [],
   "source": [
    "bd.projects.set_current(\"xt-vector-test\")"
   ]
  },
  {
   "cell_type": "code",
   "execution_count": 10,
   "id": "3a0a8acd-3992-430b-b478-f3a742fc0aa8",
   "metadata": {},
   "outputs": [],
   "source": [
    "bwr.geocollections['eu-irrigation'] = {\n",
    "    'filepath': '/Users/cmutel/code/regionalized-lca-examples/class-example/data/eu_irrigated.gpkg',\n",
    "    'field': 'USCIE_GRID',\n",
    "}"
   ]
  },
  {
   "cell_type": "code",
   "execution_count": 11,
   "id": "01e8a601-9174-4e60-86f5-5f3768cd2d60",
   "metadata": {},
   "outputs": [],
   "source": [
    "xt = bwr.ExtensionTable(\"eu-cereals-irrigation\")"
   ]
  },
  {
   "cell_type": "code",
   "execution_count": 12,
   "id": "de6c354f-b218-497a-9ffb-48cc8dbed860",
   "metadata": {},
   "outputs": [],
   "source": [
    "xt.register(\n",
    "    xt_field='IR_cereals',\n",
    "    geocollection='eu-irrigation',\n",
    ")"
   ]
  },
  {
   "cell_type": "code",
   "execution_count": 13,
   "id": "f38316c1-3bca-4f3d-951a-fcfdad63f25a",
   "metadata": {},
   "outputs": [],
   "source": [
    "xt.import_from_map()"
   ]
  }
 ],
 "metadata": {
  "kernelspec": {
   "display_name": "Python 3 (ipykernel)",
   "language": "python",
   "name": "python3"
  },
  "language_info": {
   "codemirror_mode": {
    "name": "ipython",
    "version": 3
   },
   "file_extension": ".py",
   "mimetype": "text/x-python",
   "name": "python",
   "nbconvert_exporter": "python",
   "pygments_lexer": "ipython3",
   "version": "3.9.12"
  }
 },
 "nbformat": 4,
 "nbformat_minor": 5
}
