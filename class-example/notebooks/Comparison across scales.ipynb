{
 "cells": [
  {
   "cell_type": "markdown",
   "metadata": {},
   "source": [
    "# Comparing different levels of regionalization\n",
    "\n",
    "Your task is to see how our overall results change as our degree of regionalization changes. specifically, you need to look at the land (0) and water (1) impacts of ethanol from sugarcane (2) and maize (3).\n",
    "\n",
    "(0) `('LC-IMPACT', 'Land Use', 'Occupation', 'Marginal', 'Certain')`\n",
    "\n",
    "(1) `('LC-IMPACT', 'Water Use', 'Ecosystem Quality', 'Surface Water', 'Marginal', 'All')`\n",
    "\n",
    "(2) `('Fuel comparison', 'sugarcane transport')`\n",
    "\n",
    "(3) `('Fuel comparison', 'maize transport')`"
   ]
  },
  {
   "cell_type": "code",
   "execution_count": null,
   "metadata": {},
   "outputs": [],
   "source": [
    "import bw2calc as bc\n",
    "import bw2data as bd\n",
    "import bw2regional as bwr\n",
    "import bw2analyzer as ba\n",
    "import csv\n",
    "import geopandas as gpd\n",
    "import pandas as pd\n",
    "import numpy as np"
   ]
  },
  {
   "cell_type": "code",
   "execution_count": null,
   "metadata": {},
   "outputs": [],
   "source": [
    "bd.projects.set_current(\"LC IMPACT case study\")"
   ]
  },
  {
   "cell_type": "markdown",
   "metadata": {},
   "source": [
    "To get the two-scale calculations working, we can hack the system:"
   ]
  },
  {
   "cell_type": "code",
   "execution_count": null,
   "metadata": {},
   "outputs": [],
   "source": [
    "for gc in ['ecoinvent', 'RoW', 'world']:\n",
    "    needed = (gc, 'world')\n",
    "    if needed not in bwr.intersections:\n",
    "        bwr.create_empty_intersection(needed)"
   ]
  },
  {
   "cell_type": "code",
   "execution_count": null,
   "metadata": {},
   "outputs": [],
   "source": [
    "ca = ba.ContributionAnalysis()"
   ]
  },
  {
   "cell_type": "markdown",
   "metadata": {},
   "source": [
    "## Site-generic LCA\n",
    "\n",
    "The LCA class is `bc.LCA`. You only need to give a demand and method.\n",
    "\n",
    "You can use `ca.annotated_top_processes()` and `ca.annotated_top_emissions()` to see the most important activities and elementary flows. Use the option `Show Contextual Help` (right-click) to see how to call these functions.\n",
    "\n",
    "You can also use the function `ba.print_recursive_calculation` to explore the supply chain. Play with the different options :)\n",
    "\n",
    "This is not a test, but you should uunderstand not just that these different LCA methods will produce different results, but also **why**."
   ]
  },
  {
   "cell_type": "code",
   "execution_count": null,
   "metadata": {},
   "outputs": [],
   "source": [
    "do"
   ]
  },
  {
   "cell_type": "code",
   "execution_count": null,
   "metadata": {},
   "outputs": [],
   "source": [
    "some"
   ]
  },
  {
   "cell_type": "code",
   "execution_count": null,
   "metadata": {},
   "outputs": [],
   "source": [
    "stuff"
   ]
  },
  {
   "cell_type": "code",
   "execution_count": null,
   "metadata": {},
   "outputs": [],
   "source": [
    "here"
   ]
  },
  {
   "cell_type": "code",
   "execution_count": null,
   "metadata": {},
   "outputs": [],
   "source": [
    "😊"
   ]
  },
  {
   "cell_type": "markdown",
   "metadata": {},
   "source": [
    "# Shared Spatial Scale\n",
    "\n",
    "Now do the calculations for regionalization with a shared spatial scale. We won't be able to enter data for ecoinvent-specific places like `foo without bar` or `RoW 147628`, but you can get the CFs on a country level. The data is here: https://lc-impact.eu/. You have a choice - you can load an entire worksheet into Pandas, and write every country CF, or you can type in the CFs for the most important countries (the contribution analysis from the site-generic results can tell you approximately which countries are important). Similarly, contribution analysis will tell you the most important bioisphere flows - you only need to add CFs for 3 or 4.\n",
    "\n",
    "You can look at the `New LCIA Method` notebook - the format to write a new method (you will need to write a **new method**) is:\n",
    "\n",
    "```\n",
    "method_object.write([\n",
    "    (key of biosphere flow, CF amount, location),\n",
    "])\n",
    "```\n",
    "\n",
    "The key is something like `('biosphere3', 'sdfklr8kldfjsld')`, the CF amount is a number, and the location will be an ISO country code like `'ES'`. You can get the flow key from a flow object with `flow.key`.\n",
    "\n",
    "The LCA class for a shared scale is `bwr.OneSpatialScaleLCA`."
   ]
  },
  {
   "cell_type": "code",
   "execution_count": null,
   "metadata": {},
   "outputs": [],
   "source": []
  },
  {
   "cell_type": "code",
   "execution_count": null,
   "metadata": {},
   "outputs": [],
   "source": []
  },
  {
   "cell_type": "code",
   "execution_count": null,
   "metadata": {},
   "outputs": [],
   "source": []
  },
  {
   "cell_type": "markdown",
   "metadata": {},
   "source": [
    "# Two Spatial Scales\n",
    "\n",
    "Do the same things (both demands and both methods - maybe in a loop instead of manually entering them) for the class `bwr.TwoSpatialScalesLCA`. The spatial intersections should be there already, this one is relatively easy.\n",
    "\n",
    "Use LCA methods like `geodataframe_ia_spatial_scale` and `geodataframe_inv_spatial_scale` to get tables of results; you can then use `.explore` to visualize these maps. You can also use `.to_file('some_name.gpkg')` to create files you can download and visualize using QGIS."
   ]
  },
  {
   "cell_type": "code",
   "execution_count": null,
   "metadata": {},
   "outputs": [],
   "source": []
  },
  {
   "cell_type": "code",
   "execution_count": null,
   "metadata": {},
   "outputs": [],
   "source": []
  },
  {
   "cell_type": "code",
   "execution_count": null,
   "metadata": {},
   "outputs": [],
   "source": []
  },
  {
   "cell_type": "markdown",
   "metadata": {},
   "source": [
    "# Two Spatial Scales with Loading\n",
    "\n",
    "We don't have `loading` maps... you will have to make them up! Load the data from the LCIA method, and construct an artificial function that (maybe, up to you) give exponentially higher weights to higher CFs. See if you can also add some random noise.\n",
    "\n",
    "To create a loading:\n",
    "\n",
    "```\n",
    "bwr.Loading(method name).write([\n",
    "    (loading factor, location),\n",
    "])\n",
    "```\n",
    "\n",
    "Where `method_name` is something like `('LC-IMPACT', 'Land Use', 'Occupation', 'Marginal', 'Certain')`, and locations are the same as in the LCIA factors."
   ]
  },
  {
   "cell_type": "code",
   "execution_count": null,
   "metadata": {},
   "outputs": [],
   "source": []
  },
  {
   "cell_type": "code",
   "execution_count": null,
   "metadata": {},
   "outputs": [],
   "source": []
  },
  {
   "cell_type": "code",
   "execution_count": null,
   "metadata": {},
   "outputs": [],
   "source": []
  },
  {
   "cell_type": "code",
   "execution_count": null,
   "metadata": {},
   "outputs": [],
   "source": []
  },
  {
   "cell_type": "markdown",
   "metadata": {},
   "source": [
    "# Extensions tables - did you miss them?\n",
    "\n",
    "The last step. Here, let's use two extension tables, one for agriculture (crop-specific) and one for other activity."
   ]
  },
  {
   "cell_type": "code",
   "execution_count": null,
   "metadata": {},
   "outputs": [],
   "source": [
    "irrigation = [x.id for x in bd.Database(\"ecoinvent\") if 'irrigation' in x['name']]\n",
    "crops = [x.id for x in bd.Database(\"ecoinvent\") \n",
    "         if x['name'] in ('sugarcane production', 'maize grain production')]"
   ]
  },
  {
   "cell_type": "code",
   "execution_count": null,
   "metadata": {},
   "outputs": [],
   "source": [
    "activities = [\n",
    "    ('Fuel comparison', 'sugarcane transport'),\n",
    "    ('Fuel comparison', 'maize transport'),\n",
    "    ('Fuel comparison', 'petrol transport'),\n",
    "]\n",
    "\n",
    "lcimpact = {\n",
    " (\"LC-IMPACT\", \"Climate Change\", \"Human Health\", \"Marginal\", \"Certain\", \"100 Years\"): None,\n",
    " (\"LC-IMPACT\", \"Climate Change\", \"Human Health\", \"Marginal\", \"All\", \"100 Years\"): None,\n",
    " (\"LC-IMPACT\", \"Climate Change\", \"Human Health\", \"Marginal\", \"Certain\", \"Infinite\"): None,\n",
    " (\"LC-IMPACT\", \"Climate Change\", \"Human Health\", \"Marginal\", \"All\", \"Infinite\"): None,\n",
    " (\"LC-IMPACT\", \"Climate Change\", \"Terrestrial Ecosystems\", \"Marginal\", \"Certain\", \"100 Years\"): None,\n",
    " (\"LC-IMPACT\", \"Climate Change\", \"Terrestrial Ecosystems\",  \"Marginal\", \"All\", \"100 Years\"): None,\n",
    " (\"LC-IMPACT\", \"Climate Change\", \"Terrestrial Ecosystems\",  \"Marginal\", \"Certain\", \"Infinite\"): None,\n",
    " (\"LC-IMPACT\", \"Climate Change\", \"Terrestrial Ecosystems\",  \"Marginal\", \"All\", \"Infinite\"): None,\n",
    " (\"LC-IMPACT\", \"Climate Change\", \"Aquatic Ecosystems\", \"Marginal\", \"All\", \"100 Years\"): None,\n",
    " (\"LC-IMPACT\", \"Climate Change\", \"Aquatic Ecosystems\",  \"Marginal\", \"All\", \"Infinite\"): None, \n",
    " ('LC-IMPACT', 'Land Use', 'Occupation', 'Marginal', 'Certain'): {\n",
    "     'xt others': 'world-topo-ecoregions-weighted-pop-density',\n",
    "     'activities': crops,\n",
    "     'sugarcane': 'world-topo-ecoregions-sugarcane_landuse_intensity',\n",
    "     'maize': 'world-topo-ecoregions-maize_landuse_intensity',\n",
    " },\n",
    " ('LC-IMPACT', 'Particulate Matter Formation', 'Marginal', 'All'): {\n",
    "     'xt others': 'world-topo-particulate-matter-weighted-pop-density',\n",
    "     'activities': [],\n",
    "     'sugarcane': 'world-topo-particulate-matter-sugarcane_landuse_intensity',\n",
    "     'maize': 'world-topo-particulate-matter-maize_landuse_intensity',\n",
    " },\n",
    " ('LC-IMPACT', 'Particulate Matter Formation', 'Marginal', 'Certain'): {\n",
    "     'xt others': 'world-topo-particulate-matter-weighted-pop-density',\n",
    "     'activities': [],\n",
    "     'sugarcane': 'world-topo-particulate-matter-sugarcane_landuse_intensity',\n",
    "     'maize': 'world-topo-particulate-matter-maize_landuse_intensity',\n",
    " },\n",
    " ('LC-IMPACT', 'Water Use', 'Ecosystem Quality', 'Surface Water', 'Marginal', 'All'): {\n",
    "     'xt others': 'world-topo-watersheds-eq-sw-all-weighted-pop-density',\n",
    "     'activities': irrigation + crops,\n",
    "     'sugarcane': 'world-topo-watersheds-eq-sw-all-sugarcane_water_intensity',\n",
    "     'maize': 'world-topo-watersheds-eq-sw-all-maize_water_intensity',\n",
    " },\n",
    " ('LC-IMPACT', 'Water Use', 'Ecosystem Quality', 'Surface Water', 'Marginal', 'Certain'): {\n",
    "     'xt others': 'world-topo-watersheds-eq-sw-certain-weighted-pop-density',\n",
    "     'activities': irrigation + crops,\n",
    "     'sugarcane': 'world-topo-watersheds-eq-sw-certain-sugarcane_water_intensity',\n",
    "     'maize': 'world-topo-watersheds-eq-sw-certain-maize_water_intensity',\n",
    " },\n",
    " ('LC-IMPACT', 'Water Use', 'Human Health', 'Marginal'): {\n",
    "     'xt others': 'world-topo-watersheds-hh-weighted-pop-density',\n",
    "     'activities': irrigation + crops,\n",
    "     'sugarcane': 'world-topo-watersheds-hh-sugarcane_water_intensity',\n",
    "     'maize': 'world-topo-watersheds-hh-maize_water_intensity',\n",
    " },\n",
    "}"
   ]
  },
  {
   "cell_type": "code",
   "execution_count": null,
   "metadata": {},
   "outputs": [],
   "source": [
    "xt_ag = bwr.ExtensionTablesLCA(\n",
    "    func_unit,\n",
    "    method,\n",
    "    xtable=lcimpact[method][crop],\n",
    "    limitations={\n",
    "        'activities': lcimpact[method]['activities'],\n",
    "    },\n",
    ")\n",
    "xt_ag.lci()\n",
    "xt_ag.lcia()\n",
    "xt_ag.score"
   ]
  },
  {
   "cell_type": "code",
   "execution_count": null,
   "metadata": {},
   "outputs": [],
   "source": [
    "xt_others = bwr.ExtensionTablesLCA(\n",
    "    func_unit,\n",
    "    method,\n",
    "    xtable=lcimpact[method]['xt others'],\n",
    "    limitations={\n",
    "        'activities': lcimpact[method]['activities'],\n",
    "        'activities mode': 'exclude'\n",
    "    }\n",
    ")\n",
    "xt_others.lci()\n",
    "xt_others.lcia()\n",
    "xt_others.score"
   ]
  },
  {
   "cell_type": "code",
   "execution_count": null,
   "metadata": {},
   "outputs": [],
   "source": [
    "xt_ag.characterized_inventory += xt_others.characterized_inventory"
   ]
  },
  {
   "cell_type": "markdown",
   "metadata": {},
   "source": [
    "Plot, interpret, etc. - but not on XT spatial scale, as we have combined two of them."
   ]
  }
 ],
 "metadata": {
  "kernelspec": {
   "display_name": "Python [conda env:regional]",
   "language": "python",
   "name": "conda-env-regional-py"
  },
  "language_info": {
   "codemirror_mode": {
    "name": "ipython",
    "version": 3
   },
   "file_extension": ".py",
   "mimetype": "text/x-python",
   "name": "python",
   "nbconvert_exporter": "python",
   "pygments_lexer": "ipython3",
   "version": "3.10.4"
  },
  "toc": {
   "base_numbering": 1,
   "colors": {
    "hover_highlight": "#DAA520",
    "running_highlight": "#FF0000",
    "selected_highlight": "#FFD700"
   },
   "moveMenuLeft": true,
   "nav_menu": {
    "height": "48px",
    "width": "252px"
   },
   "navigate_menu": true,
   "number_sections": true,
   "sideBar": true,
   "skip_h1_title": false,
   "threshold": 4,
   "title_cell": "Table of Contents",
   "title_sidebar": "Contents",
   "toc_cell": false,
   "toc_position": {},
   "toc_section_display": "block",
   "toc_window_display": false
  }
 },
 "nbformat": 4,
 "nbformat_minor": 4
}
