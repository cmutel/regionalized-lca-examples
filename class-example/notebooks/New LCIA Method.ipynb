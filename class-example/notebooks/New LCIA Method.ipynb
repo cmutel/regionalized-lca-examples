{
 "cells": [
  {
   "cell_type": "markdown",
   "id": "b491976b-f99f-4340-9458-77eba715265e",
   "metadata": {},
   "source": [
    "# Creating a new regionalized water stress LCIA method\n",
    "\n",
    "Thanks to Paola for this idea! CF map from [WRI](https://www.wri.org/data/aqueduct-water-stress-projections-data)."
   ]
  },
  {
   "cell_type": "code",
   "execution_count": null,
   "id": "b7596311-dd9d-407b-8311-2d3c0a5cb267",
   "metadata": {},
   "outputs": [],
   "source": [
    "import fiona\n",
    "import bw2data as bd\n",
    "import bw2regional as bwr"
   ]
  },
  {
   "cell_type": "code",
   "execution_count": null,
   "id": "c4c80feb-7ea5-402e-a1ea-fb54abe516f8",
   "metadata": {},
   "outputs": [],
   "source": [
    "bd.projects.set_current(\"LC IMPACT case study\")"
   ]
  },
  {
   "cell_type": "code",
   "execution_count": null,
   "id": "4d0eb182-ca5c-4dee-b207-b619832f59af",
   "metadata": {},
   "outputs": [],
   "source": [
    "WATER_RESOURCE = [\n",
    "    (\"Water, lake\", (\"natural resource\", \"in water\")),\n",
    "    (\"Water, river\", (\"natural resource\", \"in water\")),\n",
    "    (\n",
    "        \"Water, turbine use, unspecified natural origin\",\n",
    "        (\"natural resource\", \"in water\"),\n",
    "    ),\n",
    "    (\"Water, unspecified natural origin\", (\"natural resource\", \"in water\")),\n",
    "    (\"Water, cooling, unspecified natural origin\", (\"natural resource\", \"in water\")),\n",
    "    (\"Water, unspecified natural origin\", (\"natural resource\", \"in ground\")),\n",
    "    (\"Water, well, in ground\", (\"natural resource\", \"in water\")),\n",
    "]\n",
    "\n",
    "WATER_RELEASE = [\n",
    "    (\"Fresh water (obsolete)\", (\"water\", \"surface water\")),\n",
    "    (\"Water\", (\"water\",)),\n",
    "    (\"Water\", (\"water\", \"surface water\")),\n",
    "    (\"Water\", (\"water\", \"ground-\")),\n",
    "]"
   ]
  },
  {
   "cell_type": "code",
   "execution_count": null,
   "id": "7334ce9c-547b-46e5-8237-e16e1d3fbdd2",
   "metadata": {},
   "outputs": [],
   "source": [
    "fp = \"/srv/data/vectors/aqueduct_ws.gpkg\""
   ]
  },
  {
   "cell_type": "code",
   "execution_count": null,
   "id": "da21a49a-55bc-4f9a-9d42-19b0b0f39eea",
   "metadata": {},
   "outputs": [],
   "source": [
    "def import_aqueduct_lcia(biosphere=\"biosphere3\", column='ws4038cr', id_field=\"BasinID\"):\n",
    "    bio = bd.Database(biosphere)\n",
    "\n",
    "    gc = bwr.geocollections[\"watersheds-aqueduct\"] = {\n",
    "        \"filepath\": fp,\n",
    "        \"url\": \"https://www.wri.org/data/aqueduct-water-stress-projections-data\",\n",
    "        \"field\": \"BasinID\",        \n",
    "    }\n",
    "\n",
    "    method = bd.Method((\"Aqueduct Water Stress\", \"WS4038\"))\n",
    "    method.register(\n",
    "        geocollections=[\"watersheds-aqueduct\"],\n",
    "        unit = \"Water stress\",\n",
    "        description=\"\"\"Water stress under a future scenario. \n",
    "        Map downloaded from World Resources Institute, we use values for scenario ws4038cr.\"\"\",\n",
    "    )\n",
    "\n",
    "    positive = [bio.get(name=x, categories=y) for x, y in WATER_RESOURCE]\n",
    "    negative = [bio.get(name=x, categories=y) for x, y in WATER_RELEASE]\n",
    "\n",
    "    cfs = []\n",
    "\n",
    "    with fiona.Env():\n",
    "        with fiona.open(fp) as src:\n",
    "            for feat in src:\n",
    "                for node in positive:\n",
    "                    cfs.append((\n",
    "                        node.key,\n",
    "                        feat[\"properties\"][column],\n",
    "                        (\"watersheds-aqueduct\", feat[\"properties\"][id_field]),\n",
    "                    ))\n",
    "                for node in negative:\n",
    "                    cfs.append((\n",
    "                        node.key,\n",
    "                        -1 * feat[\"properties\"][column],\n",
    "                        (\"watersheds-aqueduct\", feat[\"properties\"][id_field]),\n",
    "                    ))\n",
    "\n",
    "    method.write(cfs)\n",
    "    return method"
   ]
  },
  {
   "cell_type": "code",
   "execution_count": null,
   "id": "b6e9d70a-d61a-41f0-8e6b-83fbce8fec36",
   "metadata": {},
   "outputs": [],
   "source": [
    "import_aqueduct_lcia()"
   ]
  },
  {
   "cell_type": "markdown",
   "id": "f06bbed8-fbc5-488e-aa0e-20f054af8579",
   "metadata": {},
   "source": [
    "Test it out"
   ]
  },
  {
   "cell_type": "code",
   "execution_count": null,
   "id": "28cfb491-b05d-466f-8fa2-e80cd3962f34",
   "metadata": {},
   "outputs": [],
   "source": [
    "for inv_gc in ['world', 'BCN', 'ALM']:\n",
    "    bwr.remote.calculate_intersection(inv_gc, 'watersheds-aqueduct')"
   ]
  },
  {
   "cell_type": "code",
   "execution_count": null,
   "id": "152480df-3c20-4403-a09c-d5d4a7485b70",
   "metadata": {},
   "outputs": [],
   "source": [
    "for inv_gc in ['world', 'BCN', 'ALM']:\n",
    "    bwr.remote.intersection_as_new_geocollection(\n",
    "        inv_gc, \n",
    "        'watersheds-aqueduct', \n",
    "        f'{inv_gc} - watersheds-aqueduct',\n",
    "    )"
   ]
  },
  {
   "cell_type": "code",
   "execution_count": null,
   "id": "b244b500-fbcf-4edf-8128-39b893f74bc5",
   "metadata": {},
   "outputs": [],
   "source": [
    "for inv_gc in ['world', 'BCN', 'ALM']:\n",
    "    bwr.remote.calculate_rasterstats(\n",
    "        f'{inv_gc} - watersheds-aqueduct',\n",
    "        'weighted-pop-density',\n",
    "    )"
   ]
  },
  {
   "cell_type": "code",
   "execution_count": null,
   "id": "da3a5245-30e3-442f-bb8e-6d14ceaa06ee",
   "metadata": {},
   "outputs": [],
   "source": [
    "for inv_gc in ['world', 'BCN', 'ALM']:\n",
    "    bwr.remote.rasterstats_as_xt(    \n",
    "        f'{inv_gc} - watersheds-aqueduct',\n",
    "        'weighted-pop-density',\n",
    "        f'{inv_gc} - watersheds-aqueduct - xt',\n",
    "    )"
   ]
  },
  {
   "cell_type": "code",
   "execution_count": null,
   "id": "01a97054-c0ca-4b70-a2ad-4e9791d69395",
   "metadata": {},
   "outputs": [],
   "source": [
    "lca = bwr.ExtensionTablesLCA(\n",
    "    demand={('meal', 'meal'): 1},\n",
    "    method=(\"Aqueduct Water Stress\", \"WS4038\"),\n",
    "    xtable='world - watersheds-aqueduct - xt'\n",
    ")\n",
    "lca.lci()\n",
    "lca.lcia()"
   ]
  },
  {
   "cell_type": "code",
   "execution_count": null,
   "id": "c9f9c86a-1cd2-4552-82c4-415a23177d22",
   "metadata": {},
   "outputs": [],
   "source": [
    "lca.geodataframe_ia_spatial_scale(cutoff=1e-3).explore(column='score_rel')"
   ]
  }
 ],
 "metadata": {
  "kernelspec": {
   "display_name": "Python [conda env:regional]",
   "language": "python",
   "name": "conda-env-regional-py"
  },
  "language_info": {
   "codemirror_mode": {
    "name": "ipython",
    "version": 3
   },
   "file_extension": ".py",
   "mimetype": "text/x-python",
   "name": "python",
   "nbconvert_exporter": "python",
   "pygments_lexer": "ipython3",
   "version": "3.10.4"
  }
 },
 "nbformat": 4,
 "nbformat_minor": 5
}
