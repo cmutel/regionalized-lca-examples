{
 "cells": [
  {
   "cell_type": "code",
   "execution_count": null,
   "id": "5a49e71e-50fe-4764-85a6-317a1046a010",
   "metadata": {},
   "outputs": [],
   "source": [
    "import bw2data as bd\n",
    "import bw2io as bi\n",
    "import bw2regional as bwr"
   ]
  },
  {
   "cell_type": "markdown",
   "id": "6bc0a923-1a28-41fe-a289-f0d8918b17c2",
   "metadata": {},
   "source": [
    "Here if our matrix equation:\n",
    "\n",
    "$ h_{r} = [ MN_{dx}DXN_{g}GR ]^{T} \\cdot [ BA^{-1}f ]$"
   ]
  },
  {
   "cell_type": "code",
   "execution_count": null,
   "id": "8842be26-fe8f-42cc-aaa9-5269cc85ab09",
   "metadata": {},
   "outputs": [],
   "source": [
    "bd.projects.set_current(\"LC IMPACT case study\")"
   ]
  },
  {
   "cell_type": "code",
   "execution_count": null,
   "id": "b34a8d45-d10b-4ee5-b674-4acd8842102c",
   "metadata": {},
   "outputs": [],
   "source": [
    "meal = bd.Database('meal')\n",
    "meal.process()"
   ]
  },
  {
   "cell_type": "code",
   "execution_count": null,
   "id": "f24ee9da-2e9b-4418-8d94-bd6545789cb1",
   "metadata": {},
   "outputs": [],
   "source": [
    "my_method = ('LC-IMPACT',\n",
    "  'Water Use',\n",
    "  'Ecosystem Quality',\n",
    "  'Surface Water',\n",
    "  'Marginal',\n",
    "  'All')"
   ]
  },
  {
   "cell_type": "code",
   "execution_count": null,
   "id": "c3100dda-4bec-4b90-9ce3-b50c1280113d",
   "metadata": {},
   "outputs": [],
   "source": [
    "meal.metadata['geocollections'] = ['BCN', 'ALM']\n",
    "bd.databases.flush()"
   ]
  },
  {
   "cell_type": "code",
   "execution_count": null,
   "id": "1be3eced-a301-4a2b-bfcc-ecfebaf26c51",
   "metadata": {},
   "outputs": [],
   "source": [
    "import time"
   ]
  },
  {
   "cell_type": "markdown",
   "id": "e8aad7c3-22e8-46bb-a0f1-87ccc13e5b7a",
   "metadata": {},
   "source": [
    "Data for the creation of the **spatial units** in the third spatial scale."
   ]
  },
  {
   "cell_type": "code",
   "execution_count": null,
   "id": "8943b806-dc3c-4013-963d-2b2cd03107d2",
   "metadata": {
    "tags": []
   },
   "outputs": [],
   "source": [
    "job = bwr.remote.calculate_intersection(\n",
    "    'ALM', \n",
    "    'watersheds-eq-sw-all'\n",
    ")\n",
    "\n",
    "while job.status == 'starting':\n",
    "    time.sleep(1)"
   ]
  },
  {
   "cell_type": "markdown",
   "id": "4e597206-d035-4125-a812-1709ad310ab6",
   "metadata": {},
   "source": [
    "Add the results of the intersection calculation"
   ]
  },
  {
   "cell_type": "code",
   "execution_count": null,
   "id": "ba1d5c6c-36fa-4dd3-b3b8-c54bbf84f8a3",
   "metadata": {
    "tags": []
   },
   "outputs": [],
   "source": [
    "bwr.remote.intersection(\n",
    "    'BCN', \n",
    "    'watersheds-eq-sw-all'\n",
    ")"
   ]
  },
  {
   "cell_type": "markdown",
   "id": "faa65563-ed31-419d-8572-a162449210b7",
   "metadata": {},
   "source": [
    "This is the data in the intersection:"
   ]
  },
  {
   "cell_type": "code",
   "execution_count": null,
   "id": "1035d7c6-c51e-4b98-a666-f24da5ab4815",
   "metadata": {},
   "outputs": [],
   "source": [
    "bwr.Intersection(('ALM', 'watersheds-eq-sw-all')).load()"
   ]
  },
  {
   "cell_type": "markdown",
   "id": "281e27d6-64e7-4d5b-9191-7c9c74b3e2f9",
   "metadata": {},
   "source": [
    "Create a new geocollection, **and** add data for the $D$ and $G$ matrices."
   ]
  },
  {
   "cell_type": "code",
   "execution_count": null,
   "id": "31b307cd-1f4a-4755-b14d-c61fbf8e18fa",
   "metadata": {},
   "outputs": [],
   "source": [
    "bwr.remote.intersection_as_new_geocollection(\n",
    "    'ALM', \n",
    "    'watersheds-eq-sw-all', \n",
    "    'ALM - watersheds-eq-sw-all'\n",
    ")"
   ]
  },
  {
   "cell_type": "code",
   "execution_count": null,
   "id": "84748b8f-f7c9-484c-8218-e13218bd8ba5",
   "metadata": {},
   "outputs": [],
   "source": [
    "'ALM - watersheds-eq-sw-all' in bwr.geocollections"
   ]
  },
  {
   "cell_type": "markdown",
   "id": "78dc0eea-9ebb-4b80-a02b-d1e092a1661d",
   "metadata": {},
   "source": [
    "Calculate the data that will go in the $X$ matrix."
   ]
  },
  {
   "cell_type": "code",
   "execution_count": null,
   "id": "81d7b5b3-c40b-46d4-b784-62b50c5e553e",
   "metadata": {},
   "outputs": [],
   "source": [
    "job = bwr.remote.calculate_rasterstats(\n",
    "    'ALM - watersheds-eq-sw-all', \n",
    "    'weighted-pop-density'\n",
    ")"
   ]
  },
  {
   "cell_type": "code",
   "execution_count": null,
   "id": "7ae2f13b-7de5-415d-85c0-2660cb862c7c",
   "metadata": {},
   "outputs": [],
   "source": [
    "while job.status == 'started':\n",
    "    time.sleep(1)\n",
    "    \n",
    "job.status"
   ]
  },
  {
   "cell_type": "code",
   "execution_count": null,
   "id": "0787002f-ebed-437a-805f-116b9b005d00",
   "metadata": {},
   "outputs": [],
   "source": [
    "bwr.remote.rasterstats_as_xt(    \n",
    "    'ALM - watersheds-eq-sw-all', \n",
    "    'weighted-pop-density',\n",
    "    'this is silly there is only one raster cell',\n",
    ")"
   ]
  },
  {
   "cell_type": "code",
   "execution_count": null,
   "id": "b38b6f99-7128-437c-9098-55a2251a58fe",
   "metadata": {},
   "outputs": [],
   "source": [
    "missing = [\n",
    "    ('ecoinvent', 'ALM - watersheds-eq-sw-all'),\n",
    "    ('BCN', 'ALM - watersheds-eq-sw-all'),\n",
    "    ('world', 'ALM - watersheds-eq-sw-all'),\n",
    "    ('ALM - watersheds-eq-sw-all', 'world'),\n",
    "]"
   ]
  },
  {
   "cell_type": "code",
   "execution_count": null,
   "id": "f0dba5b5-3cb1-47bb-91e7-c07b81677cef",
   "metadata": {},
   "outputs": [],
   "source": [
    "for x, y in missing:\n",
    "    try:\n",
    "        bwr.remote.calculate_intersection(x, y)\n",
    "    except:\n",
    "        pass"
   ]
  },
  {
   "cell_type": "code",
   "execution_count": null,
   "id": "c0078c62-02fe-48c8-a98c-5d4e9abda281",
   "metadata": {},
   "outputs": [],
   "source": [
    "for x, y in missing:\n",
    "    bwr.remote.intersection(x, y)"
   ]
  },
  {
   "cell_type": "code",
   "execution_count": null,
   "id": "b2337837-5bb0-44f7-aa3e-85d8d8ca713d",
   "metadata": {},
   "outputs": [],
   "source": [
    "lca = bwr.ExtensionTablesLCA(\n",
    "    demand={('meal', 'meal'): 1},\n",
    "    method=my_method,\n",
    "    xtable='this is silly there is only one raster cell'\n",
    ")\n",
    "lca.lci()\n",
    "lca.lcia()"
   ]
  },
  {
   "cell_type": "code",
   "execution_count": null,
   "id": "b7754a3d-8f5a-4e7a-8931-214181859f1d",
   "metadata": {},
   "outputs": [],
   "source": [
    "lca.geodataframe_xtable_spatial_scale().explore(column='score_rel')"
   ]
  }
 ],
 "metadata": {
  "kernelspec": {
   "display_name": "Python [conda env:regional]",
   "language": "python",
   "name": "conda-env-regional-py"
  },
  "language_info": {
   "codemirror_mode": {
    "name": "ipython",
    "version": 3
   },
   "file_extension": ".py",
   "mimetype": "text/x-python",
   "name": "python",
   "nbconvert_exporter": "python",
   "pygments_lexer": "ipython3",
   "version": "3.10.4"
  }
 },
 "nbformat": 4,
 "nbformat_minor": 5
}
