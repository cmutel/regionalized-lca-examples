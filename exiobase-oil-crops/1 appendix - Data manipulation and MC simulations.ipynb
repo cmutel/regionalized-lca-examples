{
 "cells": [
  {
   "cell_type": "code",
   "execution_count": 1,
   "metadata": {},
   "outputs": [],
   "source": [
    "from bw2data import projects, methods, Database, databases\n",
    "from bw2io import create_default_lcia_methods\n",
    "from bw2calc import LCA"
   ]
  },
  {
   "cell_type": "markdown",
   "metadata": {},
   "source": [
    "## Select project, demand, method"
   ]
  },
  {
   "cell_type": "code",
   "execution_count": 2,
   "metadata": {},
   "outputs": [],
   "source": [
    "projects.set_current(\"EXIOBASE regionalized case study\")"
   ]
  },
  {
   "cell_type": "code",
   "execution_count": 3,
   "metadata": {},
   "outputs": [
    {
     "name": "stdout",
     "output_type": "stream",
     "text": [
      "Applying strategy: normalize_units\n",
      "Applying strategy: set_biosphere_type\n",
      "Applying strategy: fix_ecoinvent_38_lcia_implementation\n",
      "Applying strategy: drop_unspecified_subcategories\n",
      "Applying strategy: link_iterable_by_fields\n",
      "Applied 5 strategies in 0.61 seconds\n",
      "Wrote 975 LCIA methods with 254388 characterization factors\n"
     ]
    }
   ],
   "source": [
    "# Add methods if there are none\n",
    "if ('IPCC 2013', 'climate change', 'GWP 100a') not in methods:\n",
    "    create_default_lcia_methods(overwrite=True)"
   ]
  },
  {
   "cell_type": "code",
   "execution_count": 4,
   "metadata": {},
   "outputs": [
    {
     "name": "stdout",
     "output_type": "stream",
     "text": [
      "Not able to determine geocollections for all datasets. This database is not ready for regionalization.\n",
      "Warning: No valid output stream.\n",
      "Title: Writing activities to SQLite3 database:\n",
      "  Started: 04/27/2022 09:40:48\n",
      "  Finished: 04/27/2022 09:40:48\n",
      "  Total time elapsed: 00:00:00\n",
      "  CPU %: 104.90\n",
      "  Memory %: 1.28\n"
     ]
    },
    {
     "data": {
      "text/plain": [
       "Brightway2 SQLiteBackend: Independent oil"
      ]
     },
     "execution_count": 4,
     "metadata": {},
     "output_type": "execute_result"
    }
   ],
   "source": [
    "# Copy existing `Oil seeds` database and name it `Independent oil`\n",
    "if \"Independent oil\" in databases: # if already exists, delete first\n",
    "    del databases['Independent oil']\n",
    "Database(\"Oil seeds\").copy(\"Independent oil\")"
   ]
  },
  {
   "cell_type": "code",
   "execution_count": 5,
   "metadata": {},
   "outputs": [
    {
     "data": {
      "text/plain": [
       "Databases dictionary with 5 object(s):\n",
       "\tEXIOBASE 3.3.18 hybrid\n",
       "\tEXIOBASE 3.3.18 hybrid biosphere\n",
       "\tIndependent oil\n",
       "\tOil seeds\n",
       "\tbiosphere3"
      ]
     },
     "execution_count": 5,
     "metadata": {},
     "output_type": "execute_result"
    }
   ],
   "source": [
    "databases"
   ]
  },
  {
   "cell_type": "code",
   "execution_count": 6,
   "metadata": {},
   "outputs": [],
   "source": [
    "# Select LCIA method\n",
    "gwp = ('IPCC 2013', 'climate change', 'GWP 100a')"
   ]
  },
  {
   "cell_type": "code",
   "execution_count": 7,
   "metadata": {},
   "outputs": [],
   "source": [
    "# Get access to the database `Independent oil`\n",
    "db = Database(\"Independent oil\")"
   ]
  },
  {
   "cell_type": "code",
   "execution_count": 8,
   "metadata": {},
   "outputs": [
    {
     "data": {
      "text/plain": [
       "257"
      ]
     },
     "execution_count": 8,
     "metadata": {},
     "output_type": "execute_result"
    }
   ],
   "source": [
    "len(db)"
   ]
  },
  {
   "cell_type": "code",
   "execution_count": 9,
   "metadata": {},
   "outputs": [],
   "source": [
    "# Select random activity that has exchanges to see attributes of the exchanges\n",
    "activity_with_exc_found = False\n",
    "while not activity_with_exc_found:\n",
    "    act = db.random()\n",
    "    try: \n",
    "        exc = list(act.technosphere())[0]\n",
    "        activity_with_exc_found = True\n",
    "    except:\n",
    "        pass"
   ]
  },
  {
   "cell_type": "code",
   "execution_count": 10,
   "metadata": {},
   "outputs": [
    {
     "data": {
      "text/plain": [
       "Exchange: 1.0 tonnes 'Mining of chemical and fertilizer minerals, production of salt, other mining and quarrying n.e.c.' (tonnes, WE, None) to 'Bleaching earth' (tonnes, UA, None)>"
      ]
     },
     "execution_count": 10,
     "metadata": {},
     "output_type": "execute_result"
    }
   ],
   "source": [
    "exc"
   ]
  },
  {
   "cell_type": "code",
   "execution_count": 11,
   "metadata": {},
   "outputs": [
    {
     "data": {
      "text/plain": [
       "{'code': 'Link to: Bleaching earth {UA}',\n",
       " 'name': 'Bleaching earth',\n",
       " 'location': 'UA',\n",
       " 'unit': 'tonnes',\n",
       " 'category': '\\\\_5 Veg Oil case\\\\_Link to background: Exiobase',\n",
       " 'comment': 'Link to Exiobase v3.3.13b2. This activity is empty because the refinery capital goods and services are already included with the oil mill capital goods and services (because the oil mill and refinery are aggregated in Exiobase)',\n",
       " 'kind': 'Material',\n",
       " 'database': 'Independent oil',\n",
       " 'reference product': 'Link to: Bleaching earth',\n",
       " 'production amount': 1,\n",
       " 'id': 11462}"
      ]
     },
     "execution_count": 11,
     "metadata": {},
     "output_type": "execute_result"
    }
   ],
   "source": [
    "act.as_dict()"
   ]
  },
  {
   "cell_type": "code",
   "execution_count": 12,
   "metadata": {},
   "outputs": [
    {
     "data": {
      "text/plain": [
       "(bw2data.backends.proxies.Activity,\n",
       " bw2data.backends.proxies.Activity,\n",
       " bw2data.backends.proxies.Exchange)"
      ]
     },
     "execution_count": 12,
     "metadata": {},
     "output_type": "execute_result"
    }
   ],
   "source": [
    "# Note that both input and output of an exchange are Activities (nodes of graph)\n",
    "type(exc.input), type(exc.output), type(exc)"
   ]
  },
  {
   "cell_type": "code",
   "execution_count": 13,
   "metadata": {},
   "outputs": [
    {
     "data": {
      "text/plain": [
       "{'code': '_34 Mining of chemical and fertilizer minerals, production of salt, other mining and quarrying n.e.c. {WE} (product market, hybrid units)',\n",
       " 'amount': 1.0,\n",
       " 'type': 'technosphere',\n",
       " 'unit': 'tonnes',\n",
       " 'name': 'Mining of chemical and fertilizer minerals, production of salt, other mining and quarrying n.e.c.',\n",
       " 'location': 'WE',\n",
       " 'input': ('EXIOBASE 3.3.18 hybrid',\n",
       "  'WE|Mining of chemical and fertilizer minerals, production of salt, other mining and quarrying n.e.c.'),\n",
       " 'output': ('Independent oil', 'Link to: Bleaching earth {UA}')}"
      ]
     },
     "execution_count": 13,
     "metadata": {},
     "output_type": "execute_result"
    }
   ],
   "source": [
    "# Check out all information in the exchange\n",
    "exc.as_dict()"
   ]
  },
  {
   "cell_type": "markdown",
   "metadata": {},
   "source": [
    "## Delete all exchanges that are linked to exiobase"
   ]
  },
  {
   "cell_type": "code",
   "execution_count": 14,
   "metadata": {},
   "outputs": [
    {
     "data": {
      "text/plain": [
       "912"
      ]
     },
     "execution_count": 14,
     "metadata": {},
     "output_type": "execute_result"
    }
   ],
   "source": [
    "# Total number of exchanges in db BEFORE separating db from exiobase\n",
    "sum([len(list(ds.exchanges())) for ds in db])"
   ]
  },
  {
   "cell_type": "code",
   "execution_count": 15,
   "metadata": {},
   "outputs": [],
   "source": [
    "for ds in db:\n",
    "    for exc in ds.technosphere():\n",
    "        if exc.input['database'] == 'EXIOBASE 3.3.18 hybrid':\n",
    "            exc.delete()"
   ]
  },
  {
   "cell_type": "code",
   "execution_count": 16,
   "metadata": {},
   "outputs": [
    {
     "data": {
      "text/plain": [
       "471"
      ]
     },
     "execution_count": 16,
     "metadata": {},
     "output_type": "execute_result"
    }
   ],
   "source": [
    "# AFTER\n",
    "sum([len(list(ds.exchanges())) for ds in db])"
   ]
  },
  {
   "cell_type": "markdown",
   "metadata": {},
   "source": [
    "## Find activity with non-zero impact score"
   ]
  },
  {
   "cell_type": "code",
   "execution_count": 17,
   "metadata": {},
   "outputs": [
    {
     "data": {
      "text/plain": [
       "0.0"
      ]
     },
     "execution_count": 17,
     "metadata": {},
     "output_type": "execute_result"
    }
   ],
   "source": [
    "lca = LCA({db.random(): 1}, gwp)\n",
    "lca.lci()\n",
    "lca.lcia()\n",
    "lca.score"
   ]
  },
  {
   "cell_type": "code",
   "execution_count": 18,
   "metadata": {},
   "outputs": [
    {
     "data": {
      "text/plain": [
       "{11663: 1}"
      ]
     },
     "execution_count": 18,
     "metadata": {},
     "output_type": "execute_result"
    }
   ],
   "source": [
    "lca.demand"
   ]
  },
  {
   "cell_type": "code",
   "execution_count": 19,
   "metadata": {},
   "outputs": [
    {
     "data": {
      "text/plain": [
       "<257x257 sparse matrix of type '<class 'numpy.float64'>'\n",
       "\twith 426 stored elements in Compressed Sparse Row format>"
      ]
     },
     "execution_count": 19,
     "metadata": {},
     "output_type": "execute_result"
    }
   ],
   "source": [
    "# Created technosphere matrix has only 257 activities\n",
    "lca.technosphere_matrix"
   ]
  },
  {
   "cell_type": "markdown",
   "metadata": {},
   "source": [
    "Question: why are there fewer stored elements than number of exchanges?"
   ]
  },
  {
   "cell_type": "code",
   "execution_count": 20,
   "metadata": {},
   "outputs": [
    {
     "data": {
      "text/plain": [
       "2.1232650513315416"
      ]
     },
     "execution_count": 20,
     "metadata": {},
     "output_type": "execute_result"
    }
   ],
   "source": [
    "# Find activity in `db` with non-zero impact score to run MC simulations with non-zero outputs\n",
    "for act in db:\n",
    "    if lca.score == 0:\n",
    "        lca.redo_lcia({act.id: 1})\n",
    "    else:\n",
    "        break\n",
    "lca.score"
   ]
  },
  {
   "cell_type": "code",
   "execution_count": 21,
   "metadata": {},
   "outputs": [
    {
     "data": {
      "text/plain": [
       "{11701: 1}"
      ]
     },
     "execution_count": 21,
     "metadata": {},
     "output_type": "execute_result"
    }
   ],
   "source": [
    "# Corresponding demand\n",
    "lca.demand"
   ]
  },
  {
   "cell_type": "markdown",
   "metadata": {},
   "source": [
    "## Add uncertainty information to all exchanges. \n",
    "\n",
    "Uncertainty type 5 corresponds to triangular distribution.\n",
    "\n",
    "Check out more in the stats_array library [here](https://stats-arrays.readthedocs.io/en/latest/)."
   ]
  },
  {
   "cell_type": "code",
   "execution_count": 22,
   "metadata": {},
   "outputs": [],
   "source": [
    "for ds in Database(\"Independent oil\"):\n",
    "    for exc in ds.technosphere():\n",
    "        if exc['amount'] < 0:\n",
    "            exc['uncertainty type'] = 5 \n",
    "            exc['maximum'] = 0.75 * exc['amount']\n",
    "            exc['minimum'] = 1.5 * exc['amount']\n",
    "            exc['loc'] = exc['amount']\n",
    "            exc.save()\n",
    "        if exc['amount'] > 0:\n",
    "            exc['uncertainty type'] = 5\n",
    "            exc['minimum'] = 0.75 * exc['amount']\n",
    "            exc['maximum'] = 1.5 * exc['amount']\n",
    "            exc['loc'] = exc['amount']\n",
    "            exc.save()            "
   ]
  },
  {
   "cell_type": "markdown",
   "metadata": {},
   "source": [
    "## Do Monte Carlo LCA"
   ]
  },
  {
   "cell_type": "code",
   "execution_count": 23,
   "metadata": {},
   "outputs": [
    {
     "data": {
      "text/plain": [
       "1.4772607950951604"
      ]
     },
     "execution_count": 23,
     "metadata": {},
     "output_type": "execute_result"
    }
   ],
   "source": [
    "lca = LCA({act: 1}, gwp, use_distributions=True)\n",
    "lca.lci()\n",
    "lca.lcia()\n",
    "lca.score"
   ]
  },
  {
   "cell_type": "code",
   "execution_count": 31,
   "metadata": {},
   "outputs": [
    {
     "name": "stdout",
     "output_type": "stream",
     "text": [
      "0.4941139165145958\n",
      "0.5869260920057139\n",
      "1.380619687563578\n",
      "0.1514826877012346\n",
      "0.7307141810211533\n"
     ]
    }
   ],
   "source": [
    "for _ in range(5):\n",
    "    next(lca)\n",
    "    print(lca.score)"
   ]
  },
  {
   "cell_type": "code",
   "execution_count": 32,
   "metadata": {},
   "outputs": [
    {
     "name": "stdout",
     "output_type": "stream",
     "text": [
      "CPU times: user 1min 5s, sys: 1.57 s, total: 1min 6s\n",
      "Wall time: 16.7 s\n"
     ]
    }
   ],
   "source": [
    "%%time\n",
    "n_runs = 2700\n",
    "_, values = zip(*[(next(lca), lca.score) for _ in range(n_runs)])"
   ]
  },
  {
   "cell_type": "code",
   "execution_count": 33,
   "metadata": {},
   "outputs": [
    {
     "data": {
      "text/plain": [
       "(0.47840136784146836,\n",
       " 0.4630247837514764,\n",
       " 0.8095741315860581,\n",
       " 0.7454620291991803,\n",
       " 0.47688376335235017)"
      ]
     },
     "execution_count": 33,
     "metadata": {},
     "output_type": "execute_result"
    }
   ],
   "source": [
    "values[:5]"
   ]
  },
  {
   "cell_type": "markdown",
   "metadata": {},
   "source": [
    "## Let us plot a histogram of these values"
   ]
  },
  {
   "cell_type": "code",
   "execution_count": 34,
   "metadata": {},
   "outputs": [],
   "source": [
    "import matplotlib.pyplot as plt"
   ]
  },
  {
   "cell_type": "code",
   "execution_count": 35,
   "metadata": {},
   "outputs": [],
   "source": [
    "%matplotlib inline"
   ]
  },
  {
   "cell_type": "code",
   "execution_count": 36,
   "metadata": {},
   "outputs": [
    {
     "data": {
      "text/plain": [
       "(array([  9.,  65., 155., 322., 456., 430., 392., 302., 220., 119.,  95.,\n",
       "         60.,  28.,  23.,  13.,   2.,   2.,   1.,   4.,   2.]),\n",
       " array([-1.66219740e-01, -5.96149281e-04,  1.65027441e-01,  3.30651031e-01,\n",
       "         4.96274622e-01,  6.61898212e-01,  8.27521802e-01,  9.93145393e-01,\n",
       "         1.15876898e+00,  1.32439257e+00,  1.49001616e+00,  1.65563975e+00,\n",
       "         1.82126334e+00,  1.98688693e+00,  2.15251052e+00,  2.31813412e+00,\n",
       "         2.48375771e+00,  2.64938130e+00,  2.81500489e+00,  2.98062848e+00,\n",
       "         3.14625207e+00]),\n",
       " <BarContainer object of 20 artists>)"
      ]
     },
     "execution_count": 36,
     "metadata": {},
     "output_type": "execute_result"
    },
    {
     "data": {
      "image/png": "[encoded data removed]",
      "text/plain": [
       "<Figure size 432x288 with 1 Axes>"
      ]
     },
     "metadata": {
      "needs_background": "light"
     },
     "output_type": "display_data"
    }
   ],
   "source": [
    "plt.hist(values, bins=20)"
   ]
  }
 ],
 "metadata": {
  "kernelspec": {
   "display_name": "Python [conda env:exiobase]",
   "language": "python",
   "name": "conda-env-exiobase-py"
  },
  "language_info": {
   "codemirror_mode": {
    "name": "ipython",
    "version": 3
   },
   "file_extension": ".py",
   "mimetype": "text/x-python",
   "name": "python",
   "nbconvert_exporter": "python",
   "pygments_lexer": "ipython3",
   "version": "3.9.7"
  }
 },
 "nbformat": 4,
 "nbformat_minor": 4
}
