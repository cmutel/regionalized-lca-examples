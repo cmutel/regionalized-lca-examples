{
 "cells": [
  {
   "cell_type": "code",
   "execution_count": null,
   "metadata": {},
   "outputs": [],
   "source": [
    "from bw2data import projects, databases, Database, methods\n",
    "import bw2regional as bwr\n",
    "from bw2calc import LCA\n",
    "from bw2regional.export import as_ia_spatial_scale\n",
    "from bw2analyzer import ContributionAnalysis"
   ]
  },
  {
   "cell_type": "code",
   "execution_count": null,
   "metadata": {},
   "outputs": [],
   "source": [
    "projects.set_current(\"EXIOBASE regionalized case study\")"
   ]
  },
  {
   "cell_type": "code",
   "execution_count": null,
   "metadata": {},
   "outputs": [],
   "source": [
    "[x for x in methods if x[0] == \"LC-IMPACT\"]"
   ]
  },
  {
   "cell_type": "code",
   "execution_count": null,
   "metadata": {},
   "outputs": [],
   "source": [
    "sorted(bwr.extension_tables)"
   ]
  },
  {
   "cell_type": "code",
   "execution_count": null,
   "metadata": {},
   "outputs": [],
   "source": [
    "palm = next(ds for ds in Database(\"Oil seeds\") if ds['name'] == 'Palm oil refinery [NBD palm oil]')\n",
    "sunflower = next(ds for ds in Database(\"Oil seeds\") if ds['name'] == 'Sunflower oil refinery [Refined sunflower oil]')\n",
    "rapeseed = next(ds for ds in Database(\"Oil seeds\") if ds['name'] == 'Rapeseed oil refinery [Refined rapeseed oil]')\n",
    "peanut = next(ds for ds in Database(\"Oil seeds\") if ds['name'] == 'Peanut oil refinery [Refined peanut oil]')\n",
    "soybean = next(ds for ds in Database(\"Oil seeds\") if ds['name'] == 'Soybean oil refinery [CSBO processing]')"
   ]
  },
  {
   "cell_type": "code",
   "execution_count": null,
   "metadata": {},
   "outputs": [],
   "source": [
    "for obj in (rapeseed, sunflower, peanut, palm, soybean):\n",
    "    print(obj.key)"
   ]
  },
  {
   "cell_type": "code",
   "execution_count": null,
   "metadata": {},
   "outputs": [],
   "source": [
    "lca = LCA(\n",
    "    {palm: 1},\n",
    "    ('LC-IMPACT', 'Land Use', 'Occupation', 'Average', 'Certain'),\n",
    ")\n",
    "lca.lci()\n",
    "lca.lcia()\n",
    "lca.score"
   ]
  },
  {
   "cell_type": "code",
   "execution_count": null,
   "metadata": {},
   "outputs": [],
   "source": [
    "lca = bwr.TwoSpatialScalesLCA(\n",
    "    {palm: 1},\n",
    "    ('LC-IMPACT', 'Land Use', 'Occupation', 'Average', 'Certain'),\n",
    ")\n",
    "lca.lci()\n",
    "lca.lcia()\n",
    "lca.score"
   ]
  },
  {
   "cell_type": "code",
   "execution_count": null,
   "metadata": {},
   "outputs": [],
   "source": [
    "lca = bwr.ExtensionTablesLCA(\n",
    "    {palm: 1},\n",
    "    ('LC-IMPACT', 'Land Use', 'Occupation', 'Average', 'Certain'),\n",
    "    xtable='xt-oilpalm-world-topo-ecoregions',\n",
    ")\n",
    "lca.lci()\n",
    "lca.lcia()\n",
    "lca.score"
   ]
  },
  {
   "cell_type": "code",
   "execution_count": null,
   "metadata": {},
   "outputs": [],
   "source": [
    "for score, amount, act in ContributionAnalysis().annotated_top_processes(lca)[:10]:\n",
    "        print([act['name'], act['unit'], act['location'], score / lca.score])"
   ]
  },
  {
   "cell_type": "code",
   "execution_count": null,
   "metadata": {},
   "outputs": [],
   "source": []
  }
 ],
 "metadata": {
  "kernelspec": {
   "display_name": "Python [conda env:exiobase]",
   "language": "python",
   "name": "conda-env-exiobase-py"
  },
  "language_info": {
   "codemirror_mode": {
    "name": "ipython",
    "version": 3
   },
   "file_extension": ".py",
   "mimetype": "text/x-python",
   "name": "python",
   "nbconvert_exporter": "python",
   "pygments_lexer": "ipython3",
   "version": "3.9.7"
  }
 },
 "nbformat": 4,
 "nbformat_minor": 4
}
