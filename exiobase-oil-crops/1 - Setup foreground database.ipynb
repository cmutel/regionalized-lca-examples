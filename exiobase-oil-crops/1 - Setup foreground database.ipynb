{
 "cells": [
  {
   "cell_type": "code",
   "execution_count": null,
   "metadata": {},
   "outputs": [],
   "source": [
    "from bw2data import projects, databases, Database\n",
    "from bw2io import Migration\n",
    "import re"
   ]
  },
  {
   "cell_type": "code",
   "execution_count": null,
   "metadata": {},
   "outputs": [],
   "source": [
    "projects.set_current(\"EXIOBASE regionalized case study\")"
   ]
  },
  {
   "cell_type": "code",
   "execution_count": null,
   "metadata": {},
   "outputs": [],
   "source": [
    "if \"Oil seeds\" in databases:\n",
    "    del databases['Oil seeds']"
   ]
  },
  {
   "cell_type": "markdown",
   "metadata": {},
   "source": [
    "# Extracting data"
   ]
  },
  {
   "cell_type": "code",
   "execution_count": null,
   "metadata": {},
   "outputs": [],
   "source": [
    "from bw2io.extractors import ExcelExtractor\n",
    "from copy import deepcopy\n",
    "from bw2io.importers.base_lci import LCIImporter"
   ]
  },
  {
   "cell_type": "code",
   "execution_count": null,
   "metadata": {},
   "outputs": [],
   "source": [
    "import pandas as pd"
   ]
  },
  {
   "cell_type": "code",
   "execution_count": null,
   "metadata": {},
   "outputs": [],
   "source": [
    "df = pd.read_excel(\"data/Foreground direct.xlsx\", index_col=[0,1,2,3], header=[0,1,2,3,4,5,6])\n",
    "df"
   ]
  },
  {
   "cell_type": "code",
   "execution_count": null,
   "metadata": {},
   "outputs": [],
   "source": [
    "# rename column levels, drop empty level\n",
    "df.index.names = [\"Product Compartment\", \"Product Name\", \"Product Sub-compartment\", \"Product Unit\"]\n",
    "df.columns.names = [\"Process Name\", \"Process Unit\", \"Process Amount\", \"Delete\", \"Process Category\", \"Process Comment\", \"Process Type\"]\n",
    "df.columns = df.columns.droplevel(\"Delete\")\n",
    "df"
   ]
  },
  {
   "cell_type": "code",
   "execution_count": null,
   "metadata": {},
   "outputs": [],
   "source": [
    "# un-pivot to remove NaN values\n",
    "df_long = df.melt(ignore_index=False, value_name=\"Exchange Amount\").dropna()\n",
    "df_long"
   ]
  },
  {
   "cell_type": "code",
   "execution_count": null,
   "metadata": {},
   "outputs": [],
   "source": [
    "def df_to_database(df):\n",
    "    \n",
    "    def split_name_and_location(string):\n",
    "        if len(re.findall(\"/\",string)) == 1 and \"g/l\" not in string:\n",
    "            return string.split(\"/\")[0], string.split(\"/\")[1]\n",
    "        elif \"{\" in string:\n",
    "            return re.sub(\" {.*?}\", \"\", string), re.search(\"{(.*?)}\", string).group(1)\n",
    "        else:\n",
    "            return string, \"GLO\"\n",
    "    \n",
    "    db = []\n",
    "    processes = df[\"Process Name\"].unique()\n",
    "    for name in processes:\n",
    "        \n",
    "        # parse process metadata\n",
    "        process = {\"code\": name}\n",
    "        process[\"name\"], process[\"location\"] = split_name_and_location(name)               \n",
    "        \n",
    "        # parse exchanges\n",
    "        df_ex = df.query(f\"`Process Name`=='{name}'\") \n",
    "        process[\"exchanges\"] = []\n",
    "        for index, row in df_ex.iterrows():\n",
    "            \n",
    "            # more process metadata\n",
    "            if len(process[\"exchanges\"])==0:\n",
    "                process[\"unit\"] = row[\"Process Unit\"]\n",
    "                process[\"category\"] = row[\"Process Category\"]\n",
    "                if row[\"Process Comment\"] != \"Unnamed: 4_level_5\":\n",
    "                    process[\"comment\"] = row[\"Process Comment\"]\n",
    "                process[\"kind\"] = row[\"Process Type\"]\n",
    "                process[\"exchanges\"].append({\n",
    "                    \"type\":\"production\", \n",
    "                    \"amount\": row[\"Process Amount\"], \n",
    "                    \"code\":process[\"code\"],\n",
    "                    \"name\":process[\"name\"],\n",
    "                    \"location\":process[\"location\"],\n",
    "                    \"unit\": process[\"unit\"],\n",
    "                })\n",
    "            \n",
    "            # exchange data\n",
    "            ex = {\n",
    "                \"code\": index[1],\n",
    "                \"amount\": row[\"Exchange Amount\"],\n",
    "                \"type\": \"technosphere\",\n",
    "                \"unit\": index[-1],\n",
    "            }\n",
    "            ex[\"name\"], ex[\"location\"] = split_name_and_location(index[1])\n",
    "            \n",
    "            # specific to biosphere exchanges\n",
    "            if not pd.isna(index[0]):\n",
    "                ex[\"categories\"] = index[0]\n",
    "                ex[\"type\"] = \"biosphere\"\n",
    "            if not pd.isna(index[2]):\n",
    "                ex[\"categories\"] = (ex[\"categories\"], + index[2])\n",
    "                \n",
    "            process[\"exchanges\"].append(ex)\n",
    "            \n",
    "        db.append(process)\n",
    "        \n",
    "    return db\n",
    "\n",
    "db = df_to_database(df_long)\n",
    "db[0]"
   ]
  },
  {
   "cell_type": "code",
   "execution_count": null,
   "metadata": {},
   "outputs": [],
   "source": [
    "df_inter = pd.read_excel(\"data/Foreground intermediate.xlsx\", index_col=[0,1,2,3], header=[0,1,2,3,4,5,6])\n",
    "df_inter"
   ]
  },
  {
   "cell_type": "code",
   "execution_count": null,
   "metadata": {},
   "outputs": [],
   "source": [
    "# rename column levels, drop empty level\n",
    "df_inter.index.names = [\"Product Compartment\", \"Product Name\", \"Product Sub-compartment\", \"Product Unit\"]\n",
    "df_inter.columns.names = [\"Process Name\", \"Process Unit\", \"Process Amount\", \"Delete\", \"Process Category\", \"Process Comment\", \"Process Type\"]\n",
    "df_inter.columns = df_inter.columns.droplevel(\"Delete\")\n",
    "df_inter\n",
    "\n",
    "# un-pivot to remove NaN values\n",
    "df_long = df_inter.melt(ignore_index=False, value_name=\"Exchange Amount\").dropna()\n",
    "df_long"
   ]
  },
  {
   "cell_type": "code",
   "execution_count": null,
   "metadata": {},
   "outputs": [],
   "source": [
    "db_inter = df_to_database(df_long)\n",
    "db_inter[0]"
   ]
  },
  {
   "cell_type": "markdown",
   "metadata": {},
   "source": [
    "# Creating an `importer` object"
   ]
  },
  {
   "cell_type": "code",
   "execution_count": null,
   "metadata": {},
   "outputs": [],
   "source": [
    "ei = LCIImporter(\"Oil seeds\")\n",
    "ei.data = db + db_inter\n",
    "del ei.strategies[0]\n",
    "del ei.strategies[0]"
   ]
  },
  {
   "cell_type": "code",
   "execution_count": null,
   "metadata": {},
   "outputs": [],
   "source": [
    "from bw2io.strategies import normalize_units"
   ]
  },
  {
   "cell_type": "code",
   "execution_count": null,
   "metadata": {},
   "outputs": [],
   "source": [
    "ei.apply_strategy(normalize_units)"
   ]
  },
  {
   "cell_type": "markdown",
   "metadata": {},
   "source": [
    "We have one more unit to fix - `ha a`, or the occupation of one hectare for one year. Normally we could do `ei.migrate(\"default-units\")`, which would convert this unit to what our base flow list expects (occupation of square meter - year), but this would change all our tonnes to kilograms, meaning we would have the wrong unit to link to exiobase. So we treat this as a special case migration.\n",
    "\n",
    "('ha a', 'square meter-year', 1e4)"
   ]
  },
  {
   "cell_type": "code",
   "execution_count": null,
   "metadata": {},
   "outputs": [],
   "source": [
    "Migration(\"hecatare-units\").write({\n",
    "    'fields': ['unit'],\n",
    "    'data': [\n",
    "        (\n",
    "            ('ha a',),\n",
    "            {'unit': 'square meter-year', 'multiplier': 1e4}\n",
    "        )\n",
    "    ]\n",
    "}, 'Change only `ha a` units')\n",
    "\n",
    "ei.migrate(\"hecatare-units\")"
   ]
  },
  {
   "cell_type": "code",
   "execution_count": null,
   "metadata": {},
   "outputs": [],
   "source": [
    "{ds['unit'] for ds in ei.data}"
   ]
  },
  {
   "cell_type": "markdown",
   "metadata": {},
   "source": [
    "EXIOBASE uses `Meuro` instead of `MEUR2011`, let's change this."
   ]
  },
  {
   "cell_type": "code",
   "execution_count": null,
   "metadata": {},
   "outputs": [],
   "source": [
    "databases"
   ]
  },
  {
   "cell_type": "code",
   "execution_count": null,
   "metadata": {},
   "outputs": [],
   "source": [
    "{ds['unit'] for ds in Database(\"EXIOBASE 3.3.18 hybrid\")}"
   ]
  },
  {
   "cell_type": "code",
   "execution_count": null,
   "metadata": {},
   "outputs": [],
   "source": [
    "Migration(\"MEUR2011\").write({\n",
    "    'fields': ['unit'],\n",
    "    'data': [\n",
    "        (\n",
    "            # First element is input data in the order of `fields` above\n",
    "            ('MEUR2011',),\n",
    "            # Second element is new values to substitute\n",
    "            {\n",
    "                'unit': 'Meuro',\n",
    "            }\n",
    "        )\n",
    "    ]\n",
    "}, 'Change Euro unit label')\n",
    "\n",
    "ei.migrate(\"MEUR2011\")"
   ]
  },
  {
   "cell_type": "code",
   "execution_count": null,
   "metadata": {},
   "outputs": [],
   "source": [
    "Migration(\"units\").write({\n",
    "    'fields': ['unit'],\n",
    "    'data': [\n",
    "        (\n",
    "            ('megajoule',),\n",
    "            {'unit': 'TJ', 'multiplier': 1e-6}\n",
    "        ),\n",
    "        (\n",
    "            ('kilowatt hour',),\n",
    "            {'unit': 'TJ', 'multiplier': 3.6/1e6}\n",
    "        ),\n",
    "                (\n",
    "            ('kilogram',),\n",
    "            {'unit': 'tonnes', 'multiplier': 1e-3}\n",
    "        ),\n",
    "        (\n",
    "            ('ton',),\n",
    "            {'unit': 'tonnes'}\n",
    "        ),\n",
    "    ]\n",
    "}, 'Change MJ, kWh, kg, ton')\n",
    "\n",
    "ei.migrate(\"units\")"
   ]
  },
  {
   "cell_type": "code",
   "execution_count": null,
   "metadata": {},
   "outputs": [],
   "source": [
    "{ds['unit'] for ds in ei.data}"
   ]
  },
  {
   "cell_type": "markdown",
   "metadata": {},
   "source": [
    "## `database`\n",
    "\n",
    "We can label each dataset with out chosen database name"
   ]
  },
  {
   "cell_type": "code",
   "execution_count": null,
   "metadata": {},
   "outputs": [],
   "source": [
    "from bw2io.strategies import add_database_name\n",
    "from functools import partial"
   ]
  },
  {
   "cell_type": "code",
   "execution_count": null,
   "metadata": {},
   "outputs": [],
   "source": [
    "ei.apply_strategy(partial(add_database_name, name=ei.db_name))"
   ]
  },
  {
   "cell_type": "code",
   "execution_count": null,
   "metadata": {},
   "outputs": [],
   "source": [
    "db[0]"
   ]
  },
  {
   "cell_type": "markdown",
   "metadata": {},
   "source": [
    "# Internal linking \n",
    "\n",
    "We can now apply the \"generic\" default strategies."
   ]
  },
  {
   "cell_type": "code",
   "execution_count": null,
   "metadata": {},
   "outputs": [],
   "source": [
    "ei.apply_strategies()"
   ]
  },
  {
   "cell_type": "markdown",
   "metadata": {},
   "source": [
    "We are ready to start thinking about internal linking. Let's see if the codes will match up, first by checking whether they are unique, and then by looking at them manually"
   ]
  },
  {
   "cell_type": "code",
   "execution_count": null,
   "metadata": {},
   "outputs": [],
   "source": [
    "dataset_codes = {ds['name'] for ds in ei.data}\n",
    "exchange_codes = {exc.get('name') for ds in ei.data for exc in ds['exchanges']}\n",
    "len(dataset_codes), len(exchange_codes), len(dataset_codes.intersection(exchange_codes))"
   ]
  },
  {
   "cell_type": "code",
   "execution_count": null,
   "metadata": {},
   "outputs": [],
   "source": [
    "ei.match_database(fields=['code'])"
   ]
  },
  {
   "cell_type": "code",
   "execution_count": null,
   "metadata": {},
   "outputs": [],
   "source": [
    "ei.statistics()"
   ]
  },
  {
   "cell_type": "markdown",
   "metadata": {},
   "source": [
    "## `biosphere` exchanges\n",
    "\n",
    "How many can we link without changing anything?"
   ]
  },
  {
   "cell_type": "code",
   "execution_count": null,
   "metadata": {},
   "outputs": [],
   "source": [
    "ei.match_database(\"biosphere3\", fields=['name', 'categories'])"
   ]
  },
  {
   "cell_type": "code",
   "execution_count": null,
   "metadata": {},
   "outputs": [],
   "source": [
    "ei.statistics()"
   ]
  },
  {
   "cell_type": "markdown",
   "metadata": {},
   "source": [
    "Sweet, only 3 to fix manually. Let's look at them."
   ]
  },
  {
   "cell_type": "code",
   "execution_count": null,
   "metadata": {},
   "outputs": [],
   "source": [
    "[ex for ex in ei.unlinked if ex[\"type\"]==\"biosphere\"]"
   ]
  },
  {
   "cell_type": "markdown",
   "metadata": {},
   "source": [
    "`Carbon dioxide` and `Methane`, both of which need to be labeled fossil (or not) to get a match. `Occupation, arable` is a shortened version of what we have in our master flow list:"
   ]
  },
  {
   "cell_type": "code",
   "execution_count": null,
   "metadata": {},
   "outputs": [],
   "source": [
    "[x for x in Database(\"biosphere3\") if x['name'].lower().startswith('occupation, arable')]"
   ]
  },
  {
   "cell_type": "code",
   "execution_count": null,
   "metadata": {},
   "outputs": [],
   "source": [
    "Migration(\"oil-bio\").write({\n",
    "    'fields': ['name'],\n",
    "    'data': [\n",
    "        (('Carbon dioxide',), {'name': 'Carbon dioxide, fossil',}),\n",
    "        (('Methane',), {'name': 'Methane, fossil',}),\n",
    "        (('occupation, arable',), \n",
    "         {'name': 'Occupation, arable land, unspecified use', 'categories': ('natural resource', 'land')}),\n",
    "    ]\n",
    "}, 'Change some biosphere flows in oil seeds foreground')\n",
    "\n",
    "ei.migrate(\"oil-bio\")"
   ]
  },
  {
   "cell_type": "code",
   "execution_count": null,
   "metadata": {},
   "outputs": [],
   "source": [
    "ei.match_database(\"biosphere3\", fields=['name', 'categories'])"
   ]
  },
  {
   "cell_type": "code",
   "execution_count": null,
   "metadata": {},
   "outputs": [],
   "source": [
    "ei.statistics()"
   ]
  },
  {
   "cell_type": "markdown",
   "metadata": {},
   "source": [
    "This isn't actually correct - there are still unlinked biosphere exchanges, they are just mislabelled for now :)"
   ]
  },
  {
   "cell_type": "markdown",
   "metadata": {},
   "source": [
    "## `name`\n",
    "\n",
    "Let's clean up some names, starting with this pattern: `_64 Manufacture of rubber and plastic products (25)  (product market, hybrid units)`."
   ]
  },
  {
   "cell_type": "code",
   "execution_count": null,
   "metadata": {},
   "outputs": [],
   "source": [
    "test_string = '_64 Manufacture of rubber and plastic products (25)  (product market, hybrid units)'"
   ]
  },
  {
   "cell_type": "code",
   "execution_count": null,
   "metadata": {},
   "outputs": [],
   "source": [
    "numeric_start = re.compile(\"^[0-9_]\\d\\d\")"
   ]
  },
  {
   "cell_type": "code",
   "execution_count": null,
   "metadata": {},
   "outputs": [],
   "source": [
    "numeric_start.findall(test_string)"
   ]
  },
  {
   "cell_type": "code",
   "execution_count": null,
   "metadata": {},
   "outputs": [],
   "source": [
    "test_string = '_64 Manufacture of rubber and plastic products (25)'"
   ]
  },
  {
   "cell_type": "code",
   "execution_count": null,
   "metadata": {},
   "outputs": [],
   "source": [
    "numeric_end = re.compile(\"\\(\\d\\d\\)$\")"
   ]
  },
  {
   "cell_type": "code",
   "execution_count": null,
   "metadata": {},
   "outputs": [],
   "source": [
    "numeric_end.findall(test_string)"
   ]
  },
  {
   "cell_type": "code",
   "execution_count": null,
   "metadata": {},
   "outputs": [],
   "source": [
    "def clean_name(name):\n",
    "    name = name.replace(\"(product market, hybrid units)\", \"\").replace(\"Link to: \", \"\").strip()\n",
    "    prefix = numeric_start.findall(name)\n",
    "    if prefix:\n",
    "        name = name.replace(prefix[0], '').strip()\n",
    "    #suffix = numeric_end.findall(name)\n",
    "    #if suffix:\n",
    "    #    name = name.replace(suffix[0], '').strip()\n",
    "    return name\n",
    "\n",
    "def clean_names(data):\n",
    "    for ds in data:\n",
    "        ds['name'] = clean_name(ds['name'])\n",
    "        for exc in ds['exchanges']:\n",
    "            if exc.get('name'):\n",
    "                exc['name'] = clean_name(exc['name'])\n",
    "    return data"
   ]
  },
  {
   "cell_type": "code",
   "execution_count": null,
   "metadata": {},
   "outputs": [],
   "source": [
    "ei.apply_strategy(clean_names)"
   ]
  },
  {
   "cell_type": "markdown",
   "metadata": {},
   "source": [
    "Change \"Electricity Mix\" and \"Electricity Market\" to \"Production of electricity by gas\" because 3.3.18 does not contain mixes."
   ]
  },
  {
   "cell_type": "code",
   "execution_count": null,
   "metadata": {},
   "outputs": [],
   "source": [
    "Migration(\"what-is-electricity\").write({\n",
    "    'fields': ['name'],\n",
    "    'data': [\n",
    "        (('Electricity  Market',), {'name': 'Electricity mix',}),\n",
    "        (('Electricity  market',), {'name': 'Electricity mix',}),\n",
    "    ]\n",
    "}, \"Let's try being consistent, just to see how it feels\")\n",
    "\n",
    "ei.migrate(\"what-is-electricity\")"
   ]
  },
  {
   "cell_type": "code",
   "execution_count": null,
   "metadata": {},
   "outputs": [],
   "source": [
    "ei.match_database(fields=['name', 'location', 'unit'])"
   ]
  },
  {
   "cell_type": "code",
   "execution_count": null,
   "metadata": {},
   "outputs": [],
   "source": [
    "ei.statistics()"
   ]
  },
  {
   "cell_type": "code",
   "execution_count": null,
   "metadata": {},
   "outputs": [],
   "source": [
    "[ds for ds in ei.data if \"Electricity Mix\" in ds[\"name\"]]"
   ]
  },
  {
   "cell_type": "markdown",
   "metadata": {},
   "source": [
    "## Linking against EXIOBASE\n",
    "\n",
    "First try, don't expect great success."
   ]
  },
  {
   "cell_type": "code",
   "execution_count": null,
   "metadata": {},
   "outputs": [],
   "source": [
    "ei.match_database(\"EXIOBASE 3.3.18 hybrid\", fields=['name', 'location'])"
   ]
  },
  {
   "cell_type": "code",
   "execution_count": null,
   "metadata": {},
   "outputs": [],
   "source": [
    "ei.statistics()"
   ]
  },
  {
   "cell_type": "code",
   "execution_count": null,
   "metadata": {},
   "outputs": [],
   "source": [
    "ei.write_excel(only_unlinked=True)"
   ]
  },
  {
   "cell_type": "markdown",
   "metadata": {},
   "source": [
    "## Specific issues\n",
    "\n",
    "The flow `Arable land, as ha*year-eq.` and the activity `Link to: Market for arable land {GLO}` are removed, as we don't know where they occur, and are included to use with an indirect land use model."
   ]
  },
  {
   "cell_type": "code",
   "execution_count": null,
   "metadata": {},
   "outputs": [],
   "source": [
    "def remove_iluc_land(data):\n",
    "    EXCLUDED = ('Arable land, as ha*year-eq. (linked)', 'Market for arable land')\n",
    "    data = [ds for ds in data if ds['name'] not in EXCLUDED]\n",
    "    for ds in data:\n",
    "        ds['exchanges'] = [exc for exc in ds['exchanges'] if exc.get('name') not in EXCLUDED]\n",
    "    return data"
   ]
  },
  {
   "cell_type": "code",
   "execution_count": null,
   "metadata": {},
   "outputs": [],
   "source": [
    "ei.apply_strategy(remove_iluc_land)"
   ]
  },
  {
   "cell_type": "markdown",
   "metadata": {},
   "source": [
    "Just for laughs (!?), there are some exchanges where activities where some exchanges are linked in kilograms, and others in tons. So let's fix exchanges in kilograms and switch them to tons when that will produce a link."
   ]
  },
  {
   "cell_type": "code",
   "execution_count": null,
   "metadata": {},
   "outputs": [],
   "source": [
    "def switch_exchange_units_when_helpful(data):\n",
    "    lookup = {(ds['name'], ds['unit']) for ds in data}\n",
    "    \n",
    "    for ds in data:\n",
    "        for exc in ds['exchanges']:\n",
    "            if exc.get('input'):\n",
    "                continue\n",
    "            if exc['unit'] == 'kilogram' and (exc['name'], 'ton') in lookup:\n",
    "                exc['unit'] = 'ton'\n",
    "                exc['amount'] /= 1000\n",
    "    return data"
   ]
  },
  {
   "cell_type": "code",
   "execution_count": null,
   "metadata": {},
   "outputs": [],
   "source": [
    "ei.apply_strategy(switch_exchange_units_when_helpful)"
   ]
  },
  {
   "cell_type": "code",
   "execution_count": null,
   "metadata": {},
   "outputs": [],
   "source": [
    "ei.match_database(fields=['name', 'location', 'unit'])"
   ]
  },
  {
   "cell_type": "code",
   "execution_count": null,
   "metadata": {},
   "outputs": [],
   "source": [
    "ei.statistics()"
   ]
  },
  {
   "cell_type": "markdown",
   "metadata": {},
   "source": [
    "Finally, we will have another problem with the electricity mixes - we have both production exchanges and technosphere exchanges we are the same thing. As their signs are flipped, they will cancel each other out, making our technosphere matrix singular:"
   ]
  },
  {
   "cell_type": "code",
   "execution_count": null,
   "metadata": {},
   "outputs": [],
   "source": [
    "import pprint\n",
    "\n",
    "for ds in ei.data:\n",
    "    if ds['name'] == 'Electricity mix' and len(ds['exchanges']) > 1:\n",
    "        pprint.pprint(ds)\n",
    "        break"
   ]
  },
  {
   "cell_type": "markdown",
   "metadata": {},
   "source": [
    "We can just drop this duplicative technosphere exchange."
   ]
  },
  {
   "cell_type": "code",
   "execution_count": null,
   "metadata": {},
   "outputs": [],
   "source": [
    "def drop_duplicate_production_exchange(data):\n",
    "    for ds in data:\n",
    "        if ds['name'] == 'Electricity mix' and len(ds['exchanges']) > 1:\n",
    "            ds['exchanges'] = [exc for exc in ds['exchanges'] if exc['type'] == 'production']\n",
    "    return data"
   ]
  },
  {
   "cell_type": "code",
   "execution_count": null,
   "metadata": {},
   "outputs": [],
   "source": [
    "ei.apply_strategy(drop_duplicate_production_exchange)"
   ]
  },
  {
   "cell_type": "markdown",
   "metadata": {},
   "source": [
    "Finally, there are no electricity markets so use natural gas for all of them as a proxy for now."
   ]
  },
  {
   "cell_type": "code",
   "execution_count": null,
   "metadata": {},
   "outputs": [],
   "source": [
    "Migration(\"electricity-mix-to-gas\").write({\n",
    "    'fields': ['name'],\n",
    "    'data': [\n",
    "        (('Electricity mix',), {'name': 'Production of electricity by gas',}),\n",
    "    ]\n",
    "}, \"Let's try being consistent, just to see how it feels\")\n",
    "\n",
    "ei.migrate(\"electricity-mix-to-gas\")\n",
    "ei.match_database(\"EXIOBASE 3.3.18 hybrid\", fields=['name', 'location'])"
   ]
  },
  {
   "cell_type": "code",
   "execution_count": null,
   "metadata": {},
   "outputs": [],
   "source": [
    "ei.statistics()"
   ]
  },
  {
   "cell_type": "code",
   "execution_count": null,
   "metadata": {},
   "outputs": [],
   "source": [
    "list(ei.unlinked)[0]"
   ]
  },
  {
   "cell_type": "markdown",
   "metadata": {},
   "source": [
    "Drop \"Treatment of shells\" because it is not used anywhere."
   ]
  },
  {
   "cell_type": "code",
   "execution_count": null,
   "metadata": {},
   "outputs": [],
   "source": [
    "ei.drop_unlinked(i_am_reckless=True)"
   ]
  },
  {
   "cell_type": "code",
   "execution_count": null,
   "metadata": {},
   "outputs": [],
   "source": [
    "ei.write_database()"
   ]
  }
 ],
 "metadata": {
  "kernelspec": {
   "display_name": "Python [conda env:exiobase]",
   "language": "python",
   "name": "conda-env-exiobase-py"
  },
  "language_info": {
   "codemirror_mode": {
    "name": "ipython",
    "version": 3
   },
   "file_extension": ".py",
   "mimetype": "text/x-python",
   "name": "python",
   "nbconvert_exporter": "python",
   "pygments_lexer": "ipython3",
   "version": "3.9.7"
  }
 },
 "nbformat": 4,
 "nbformat_minor": 4
}
