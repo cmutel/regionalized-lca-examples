{
 "cells": [
  {
   "cell_type": "code",
   "execution_count": null,
   "metadata": {},
   "outputs": [],
   "source": [
    "from bw2data import projects, databases, methods, Database\n",
    "import bw2regional as bwr\n",
    "from bw2regional import create_empty_intersection\n",
    "import bw2_lcimpact as lcia\n",
    "from copy import copy\n",
    "import constructive_geometries\n",
    "import os\n",
    "from bw2regional.pandarus_remote import AlreadyExists"
   ]
  },
  {
   "cell_type": "code",
   "execution_count": null,
   "metadata": {},
   "outputs": [],
   "source": [
    "assert bwr.__version__ >= (0, 5, 2)\n",
    "assert lcia.__version__ >= (0, 3, 1)"
   ]
  },
  {
   "cell_type": "code",
   "execution_count": null,
   "metadata": {},
   "outputs": [],
   "source": [
    "projects.set_current(\"EXIOBASE regionalized case study\")"
   ]
  },
  {
   "cell_type": "markdown",
   "metadata": {},
   "source": [
    "# Add basic metadata\n",
    "\n",
    "Such as country definitions"
   ]
  },
  {
   "cell_type": "code",
   "execution_count": null,
   "metadata": {},
   "outputs": [],
   "source": [
    "bwr.create_world_collections()\n",
    "bwr.create_ecoinvent_collections()\n",
    "bwr.create_restofworlds_collections()"
   ]
  },
  {
   "cell_type": "markdown",
   "metadata": {},
   "source": [
    "# Add regionalized LC IMPACT impact categories"
   ]
  },
  {
   "cell_type": "code",
   "execution_count": null,
   "metadata": {},
   "outputs": [],
   "source": [
    "methods"
   ]
  },
  {
   "cell_type": "code",
   "execution_count": null,
   "metadata": {},
   "outputs": [],
   "source": [
    "lcia.import_regionalized_lcimpact()\n",
    "lcia.create_regionalized_intersections()"
   ]
  },
  {
   "cell_type": "code",
   "execution_count": null,
   "metadata": {},
   "outputs": [],
   "source": [
    "lcia.import_global_lcimpact()"
   ]
  },
  {
   "cell_type": "code",
   "execution_count": null,
   "metadata": {},
   "outputs": [],
   "source": [
    "#aware.import_regionalized_aware()\n",
    "#aware.create_regionalized_intersections()"
   ]
  },
  {
   "cell_type": "markdown",
   "metadata": {},
   "source": [
    "# Fix Rest-of-World definitions"
   ]
  },
  {
   "cell_type": "markdown",
   "metadata": {},
   "source": [
    "We need to define the Rest-of-Worlds used in EXIOBASE. Happily, they are only a few of them:\n",
    "\n",
    "* **WA**:\tRoW Asia and Pacific\n",
    "* **WL**:\tRoW America\n",
    "* **WE**:\tRoW Europe\n",
    "* **WF**:\tRoW Africa - really unfortunate acronym, as this is the code for an actual location...\n",
    "* **WM**:\tRoW Middle East"
   ]
  },
  {
   "cell_type": "markdown",
   "metadata": {},
   "source": [
    "We will label the EXIOBASE Rest-of-Worlds with a) a new `Geocollection`, and b) more suitable names."
   ]
  },
  {
   "cell_type": "code",
   "execution_count": null,
   "metadata": {},
   "outputs": [],
   "source": [
    "exiobase_row_mapping = {\n",
    "    \"WA\": \"RoW Asia and Pacific\",\n",
    "    \"WL\": \"RoW America\",\n",
    "    \"WE\": \"RoW Europe\",\n",
    "    \"WF\": \"RoW Africa\",\n",
    "    \"WM\": \"RoW Middle East\",\n",
    "}"
   ]
  },
  {
   "cell_type": "code",
   "execution_count": null,
   "metadata": {},
   "outputs": [],
   "source": [
    "bwr.geocollections['exiobase-rows'] = {\n",
    "    'filepath': os.path.join(os.getcwd(), \"exiobase-rows.gpkg\"),\n",
    "    'field': 'name'\n",
    "}"
   ]
  },
  {
   "cell_type": "code",
   "execution_count": null,
   "metadata": {},
   "outputs": [],
   "source": [
    "for activity in Database(\"EXIOBASE 3.3.18 hybrid\"):\n",
    "    if activity['location'] in exiobase_row_mapping:\n",
    "        activity['location'] = ('exiobase-rows', exiobase_row_mapping[activity['location']])\n",
    "        activity.save()"
   ]
  },
  {
   "cell_type": "code",
   "execution_count": null,
   "metadata": {},
   "outputs": [],
   "source": [
    "for activity in Database(\"Oil seeds\"):\n",
    "    if activity['location'] in exiobase_row_mapping:\n",
    "        activity['location'] = ('exiobase-rows', exiobase_row_mapping[activity['location']])\n",
    "        activity.save()"
   ]
  },
  {
   "cell_type": "code",
   "execution_count": null,
   "metadata": {},
   "outputs": [],
   "source": [
    "databases['biosphere3']['geocollections'] = []\n",
    "databases['EXIOBASE 3.3.18 hybrid']['geocollections'] = ['world', 'exiobase-rows']\n",
    "databases['Oil seeds']['geocollections'] = ['world', 'exiobase-rows']\n",
    "databases.flush()"
   ]
  },
  {
   "cell_type": "markdown",
   "metadata": {},
   "source": [
    "In a separate notebool, created GIS data for these \"rest-of-world\" locations.\n",
    "\n",
    "<img src=\"images/exiobase-row.png\">"
   ]
  },
  {
   "cell_type": "code",
   "execution_count": null,
   "metadata": {},
   "outputs": [],
   "source": [
    "# bwr.remote.calculate_intersection(\n",
    "#     \"exiobase-rows\", \n",
    "#     \"watersheds-eq-sw-certain\", \n",
    "# )\n",
    "# bwr.remote.calculate_intersection(\n",
    "#     \"exiobase-rows\", \n",
    "#     \"watersheds-eq-sw-all\", \n",
    "# )\n",
    "# bwr.remote.calculate_intersection(\n",
    "#     \"exiobase-rows\", \n",
    "#     \"particulate-matter\", \n",
    "# )\n",
    "# bwr.remote.calculate_intersection(\n",
    "#     \"exiobase-rows\", \n",
    "#     \"ecoregions\", \n",
    "# )\n",
    "# bwr.remote.calculate_intersection(\n",
    "#     \"exiobase-rows\", \n",
    "#     \"watersheds-hh\", \n",
    "# )"
   ]
  },
  {
   "cell_type": "code",
   "execution_count": null,
   "metadata": {},
   "outputs": [],
   "source": [
    "bwr.remote.intersection(\n",
    "    \"exiobase-rows\", \n",
    "    \"watersheds-eq-sw-certain\", \n",
    ")\n",
    "bwr.remote.intersection(\n",
    "    \"exiobase-rows\", \n",
    "    \"watersheds-eq-sw-all\", \n",
    ")\n",
    "bwr.remote.intersection(\n",
    "    \"exiobase-rows\", \n",
    "    \"particulate-matter\", \n",
    ")\n",
    "bwr.remote.intersection(\n",
    "    \"exiobase-rows\", \n",
    "    \"ecoregions\", \n",
    ")\n",
    "bwr.remote.intersection(\n",
    "    \"exiobase-rows\", \n",
    "    \"watersheds-hh\", \n",
    ")"
   ]
  },
  {
   "cell_type": "code",
   "execution_count": null,
   "metadata": {},
   "outputs": [],
   "source": [
    "bwr.remote.intersection_as_new_geocollection(\n",
    "    \"exiobase-rows\", \n",
    "    \"watersheds-eq-sw-certain\", \n",
    "    'exiobase-rows-watersheds-eq-sw-certain'\n",
    ")\n",
    "bwr.remote.intersection_as_new_geocollection(\n",
    "    \"exiobase-rows\", \n",
    "    \"watersheds-eq-sw-all\", \n",
    "    'exiobase-rows-watersheds-eq-sw-all'\n",
    ")\n",
    "bwr.remote.intersection_as_new_geocollection(\n",
    "    \"exiobase-rows\", \n",
    "    \"particulate-matter\", \n",
    "    'exiobase-rows-particulate-matter'\n",
    ")\n",
    "bwr.remote.intersection_as_new_geocollection(\n",
    "    \"exiobase-rows\", \n",
    "    \"ecoregions\", \n",
    "    'exiobase-rows-ecoregions'\n",
    ")\n",
    "bwr.remote.intersection_as_new_geocollection(\n",
    "    \"exiobase-rows\", \n",
    "    \"watersheds-hh\", \n",
    "    'exiobase-rows-watersheds-hh'\n",
    ")"
   ]
  },
  {
   "cell_type": "code",
   "execution_count": null,
   "metadata": {},
   "outputs": [],
   "source": [
    "sorted(bwr.intersections)"
   ]
  },
  {
   "cell_type": "code",
   "execution_count": null,
   "metadata": {},
   "outputs": [],
   "source": [
    "other_scales = [\n",
    "    'world-topo-watersheds-eq-sw-all',\n",
    "    'world-topo-watersheds-eq-sw-certain',\n",
    "    'world-topo-watersheds-hh',\n",
    "    'world-topo-particulate-matter',\n",
    "    'world-topo-ecoregions',    \n",
    "]\n",
    "\n",
    "for gc in other_scales:\n",
    "    #bwr.remote.calculate_intersection('exiobase-rows', gc)\n",
    "    bwr.remote.intersection('exiobase-rows', gc)"
   ]
  },
  {
   "cell_type": "markdown",
   "metadata": {},
   "source": [
    "# Where are crops actually grown?\n",
    "\n",
    "Although this data source is not perfect, [Ramankutty et al](http://www.earthstat.org/harvested-area-yield-175-crops/) provide data on all our crops (note that peanuts can also be called groundnuts, as they are here).\n",
    "\n",
    "I downloaded this data, and created compressed GeoTIFFS with `gdal_translate`:\n",
    "\n",
    "    gdal_translate input_filename output_filename -co TILED=YES -co COPY_SRC_OVERVIEWS=YES -co COMPRESS=DEFLATE\n",
    "\n",
    "We also needed to transform the production rasters from total production per raster cell, to intensity (i.e. production per area, but note that this is total area, not harvested area). There is a function in `bw2regional` to do this already:\n",
    "\n",
    "    bwr.divide_by_area(source, destination)\n"
   ]
  },
  {
   "cell_type": "code",
   "execution_count": null,
   "metadata": {},
   "outputs": [],
   "source": [
    "rasters = (\n",
    "    (\"gdpweighted.tiff\", \"weighted-pop-density\"),\n",
    "    (\"oilpalm_intensity.tiff\", \"oilpalm\"),\n",
    "    (\"rapeseed_intensity.tiff\", \"rapeseed\"),\n",
    "    (\"soybean_intensity.tiff\", \"soybean\"),\n",
    "    (\"groundnut_intensity.tiff\", \"peanut\"),\n",
    "    (\"sunflower_intensity.tiff\", \"sunflower\"),\n",
    ")"
   ]
  },
  {
   "cell_type": "code",
   "execution_count": null,
   "metadata": {},
   "outputs": [],
   "source": [
    "third_scales = [\n",
    "    'exiobase-rows-ecoregions',\n",
    "    'exiobase-rows-particulate-matter',\n",
    "    'exiobase-rows-watersheds-eq-sw-all',\n",
    "    'exiobase-rows-watersheds-eq-sw-certain',\n",
    "    'exiobase-rows-watersheds-hh',\n",
    "    'world-topo-ecoregions',\n",
    "    'world-topo-particulate-matter',\n",
    "    'world-topo-watersheds-eq-sw-all',\n",
    "    'world-topo-watersheds-eq-sw-certain',\n",
    "    'world-topo-watersheds-hh'\n",
    "]"
   ]
  },
  {
   "cell_type": "code",
   "execution_count": null,
   "metadata": {},
   "outputs": [],
   "source": [
    "for x, y in rasters:\n",
    "    bwr.geocollections[y] = {\n",
    "        'filepath': os.path.abspath(\"data/\" + x),\n",
    "        'band': 1\n",
    "    }"
   ]
  },
  {
   "cell_type": "code",
   "execution_count": null,
   "metadata": {},
   "outputs": [],
   "source": [
    "for fp, raster in rasters:\n",
    "    for gc in third_scales:\n",
    "        #try:\n",
    "        #    bwr.remote.calculate_rasterstats(gc, raster)\n",
    "        #except Exception:\n",
    "        #    pass            \n",
    "        bwr.remote.rasterstats_as_xt(gc, raster, f\"xt-{raster}-{gc}\")"
   ]
  }
 ],
 "metadata": {
  "kernelspec": {
   "display_name": "Python [conda env:exiobase]",
   "language": "python",
   "name": "conda-env-exiobase-py"
  },
  "language_info": {
   "codemirror_mode": {
    "name": "ipython",
    "version": 3
   },
   "file_extension": ".py",
   "mimetype": "text/x-python",
   "name": "python",
   "nbconvert_exporter": "python",
   "pygments_lexer": "ipython3",
   "version": "3.9.7"
  }
 },
 "nbformat": 4,
 "nbformat_minor": 4
}
